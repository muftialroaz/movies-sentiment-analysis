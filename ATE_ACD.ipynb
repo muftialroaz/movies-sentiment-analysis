{
 "cells": [
  {
   "cell_type": "markdown",
   "metadata": {},
   "source": [
    "# This is version to aspect term extraction and aspect category detection using SATLabel framework\n",
    "https://www.researchgate.net/publication/359792164_SATLabel_A_Framework_for_Sentiment_and_Aspect_Terms_Based_Automatic_Topic_Labeling"
   ]
  },
  {
   "cell_type": "code",
   "execution_count": 1,
   "metadata": {},
   "outputs": [],
   "source": [
    "import nltk\n",
    "from nltk.corpus import stopwords\n",
    "from nltk.tokenize import word_tokenize\n",
    "from gensim import corpora, models\n",
    "from sklearn.feature_extraction.text import TfidfVectorizer\n",
    "from sklearn.cluster import KMeans\n",
    "from scipy.spatial.distance import cosine\n",
    "from collections import Counter\n",
    "import numpy as np\n",
    "from nltk import pos_tag\n",
    "import pandas as pd"
   ]
  },
  {
   "cell_type": "code",
   "execution_count": 2,
   "metadata": {},
   "outputs": [],
   "source": [
    "# read preprocess dataset\n",
    "df = pd.read_csv('dataset/movies_20k.csv')"
   ]
  },
  {
   "cell_type": "code",
   "execution_count": 3,
   "metadata": {},
   "outputs": [
    {
     "data": {
      "text/html": [
       "<div>\n",
       "<style scoped>\n",
       "    .dataframe tbody tr th:only-of-type {\n",
       "        vertical-align: middle;\n",
       "    }\n",
       "\n",
       "    .dataframe tbody tr th {\n",
       "        vertical-align: top;\n",
       "    }\n",
       "\n",
       "    .dataframe thead th {\n",
       "        text-align: right;\n",
       "    }\n",
       "</style>\n",
       "<table border=\"1\" class=\"dataframe\">\n",
       "  <thead>\n",
       "    <tr style=\"text-align: right;\">\n",
       "      <th></th>\n",
       "      <th>index</th>\n",
       "      <th>text</th>\n",
       "      <th>label</th>\n",
       "    </tr>\n",
       "  </thead>\n",
       "  <tbody>\n",
       "    <tr>\n",
       "      <th>0</th>\n",
       "      <td>0</td>\n",
       "      <td>I grew up (b. 1965) watching and loving the Th...</td>\n",
       "      <td>0</td>\n",
       "    </tr>\n",
       "    <tr>\n",
       "      <th>1</th>\n",
       "      <td>1</td>\n",
       "      <td>When I put this movie in my DVD player, and sa...</td>\n",
       "      <td>0</td>\n",
       "    </tr>\n",
       "    <tr>\n",
       "      <th>2</th>\n",
       "      <td>2</td>\n",
       "      <td>Why do people who do not know what a particula...</td>\n",
       "      <td>0</td>\n",
       "    </tr>\n",
       "    <tr>\n",
       "      <th>3</th>\n",
       "      <td>3</td>\n",
       "      <td>Even though I have great interest in Biblical ...</td>\n",
       "      <td>0</td>\n",
       "    </tr>\n",
       "    <tr>\n",
       "      <th>4</th>\n",
       "      <td>5</td>\n",
       "      <td>A terrible movie as everyone has said. What ma...</td>\n",
       "      <td>0</td>\n",
       "    </tr>\n",
       "  </tbody>\n",
       "</table>\n",
       "</div>"
      ],
      "text/plain": [
       "   index                                               text  label\n",
       "0      0  I grew up (b. 1965) watching and loving the Th...      0\n",
       "1      1  When I put this movie in my DVD player, and sa...      0\n",
       "2      2  Why do people who do not know what a particula...      0\n",
       "3      3  Even though I have great interest in Biblical ...      0\n",
       "4      5  A terrible movie as everyone has said. What ma...      0"
      ]
     },
     "execution_count": 3,
     "metadata": {},
     "output_type": "execute_result"
    }
   ],
   "source": [
    "df.head()"
   ]
  },
  {
   "cell_type": "code",
   "execution_count": 2,
   "metadata": {},
   "outputs": [],
   "source": [
    "# Make sure to download the necessary NLTK data files\n",
    "# nltk.download('punkt')\n",
    "# nltk.download('stopwords')\n",
    "# nltk.download('averaged_perceptron_tagger')\n",
    "\n",
    "# Preprocess tweets\n",
    "def preprocess(tweet):\n",
    "    stop_words = set(stopwords.words('english'))\n",
    "    tokens = word_tokenize(tweet.lower())\n",
    "    filtered_tokens = [word for word in tokens if word.isalnum() and word not in stop_words]\n",
    "    return filtered_tokens\n",
    "\n",
    "def aspect_sentiment(text):\n",
    "    # Tokenisasi teks menjadi kata-kata individual\n",
    "    tokens = word_tokenize(text)\n",
    "    # Ambil daftar stop words dalam bahasa Inggris dari NLTK\n",
    "    stop_words = set(stopwords.words('english'))\n",
    "    # Hapus tanda baca dan ubah menjadi huruf kecil\n",
    "    tokens = [word.lower() for word in tokens if word.isalnum()]\n",
    "    # Tag POS pada token\n",
    "    pos_tags = pos_tag(tokens)\n",
    "    # Buat daftar istilah sentimen dan aspek\n",
    "    sentiment_terms = []\n",
    "    aspect_terms = []\n",
    "    # Iterasi melalui token\n",
    "    for word, tag in pos_tags:\n",
    "        # Cek apakah kata tersebut merupakan stop word\n",
    "        if word in stop_words:\n",
    "            continue\n",
    "        # Cek apakah kata tersebut merupakan adjektiva atau verba (istilah sentimen)\n",
    "        if tag.startswith('JJ') or tag.startswith('VB'):\n",
    "            sentiment_terms.append(word)\n",
    "        # Cek apakah kata tersebut merupakan nomina (istilah aspek)\n",
    "        elif tag.startswith('NN'):\n",
    "            aspect_terms.append(word)\n",
    "    # Menghapus duplikat dari istilah sentimen dan aspek\n",
    "    sentiment_terms = list(set(sentiment_terms))\n",
    "    aspect_terms = list(set(aspect_terms))\n",
    "    return sentiment_terms, aspect_terms"
   ]
  },
  {
   "cell_type": "code",
   "execution_count": 5,
   "metadata": {},
   "outputs": [],
   "source": [
    "tweets = df['text'].tolist()"
   ]
  },
  {
   "cell_type": "code",
   "execution_count": 12,
   "metadata": {},
   "outputs": [
    {
     "data": {
      "text/html": [
       "<div>\n",
       "<style scoped>\n",
       "    .dataframe tbody tr th:only-of-type {\n",
       "        vertical-align: middle;\n",
       "    }\n",
       "\n",
       "    .dataframe tbody tr th {\n",
       "        vertical-align: top;\n",
       "    }\n",
       "\n",
       "    .dataframe thead th {\n",
       "        text-align: right;\n",
       "    }\n",
       "</style>\n",
       "<table border=\"1\" class=\"dataframe\">\n",
       "  <thead>\n",
       "    <tr style=\"text-align: right;\">\n",
       "      <th></th>\n",
       "      <th>Sample Tweet</th>\n",
       "      <th>Sentiment Terms</th>\n",
       "      <th>Aspect Terms</th>\n",
       "    </tr>\n",
       "  </thead>\n",
       "  <tbody>\n",
       "    <tr>\n",
       "      <th>0</th>\n",
       "      <td>I grew up (b. 1965) watching and loving the Th...</td>\n",
       "      <td>became, loved, huge, get, counting, cgi, chair...</td>\n",
       "      <td>theme, score, waste, art, school, child, serie...</td>\n",
       "    </tr>\n",
       "    <tr>\n",
       "      <th>1</th>\n",
       "      <td>When I put this movie in my DVD player, and sa...</td>\n",
       "      <td>last, following, enjoyed, bad, excellent, let,...</td>\n",
       "      <td>whatever, series, review, atlantis, reviews, v...</td>\n",
       "    </tr>\n",
       "    <tr>\n",
       "      <th>2</th>\n",
       "      <td>Why do people who do not know what a particula...</td>\n",
       "      <td>replace, go, let, define, running, looks, next...</td>\n",
       "      <td>trash, moonlanding, slut, feel, meanies, compo...</td>\n",
       "    </tr>\n",
       "    <tr>\n",
       "      <th>3</th>\n",
       "      <td>Even though I have great interest in Biblical ...</td>\n",
       "      <td>biblical, bad, horrible, mixing, great, get, s...</td>\n",
       "      <td>death, point, horror, sanity, joke, everything...</td>\n",
       "    </tr>\n",
       "    <tr>\n",
       "      <th>4</th>\n",
       "      <td>A terrible movie as everyone has said. What ma...</td>\n",
       "      <td>giving, bad, murdered, made, mcnealy, antitrus...</td>\n",
       "      <td>laugh, record, front, award, involvement, publ...</td>\n",
       "    </tr>\n",
       "    <tr>\n",
       "      <th>...</th>\n",
       "      <td>...</td>\n",
       "      <td>...</td>\n",
       "      <td>...</td>\n",
       "    </tr>\n",
       "    <tr>\n",
       "      <th>19995</th>\n",
       "      <td>Again, I've read all of the comments posted he...</td>\n",
       "      <td>intelligent, excellent, convert, loved, increa...</td>\n",
       "      <td>living, plague, syndrome, grants, industry, ad...</td>\n",
       "    </tr>\n",
       "    <tr>\n",
       "      <th>19996</th>\n",
       "      <td>This is without a doubt the funniest of the Cu...</td>\n",
       "      <td>musical, perfect, funniest, dozens, shorts, hi...</td>\n",
       "      <td>times, doubt, comedy, stooges, example, pantom...</td>\n",
       "    </tr>\n",
       "    <tr>\n",
       "      <th>19997</th>\n",
       "      <td>I first saw Thief as a child which makes me al...</td>\n",
       "      <td>realized, korda, amazing, passed, delighted, g...</td>\n",
       "      <td>thomas, kid, years, child, mccarthy, timeless,...</td>\n",
       "    </tr>\n",
       "    <tr>\n",
       "      <th>19998</th>\n",
       "      <td>This is a very fine and poetic story. Beautifu...</td>\n",
       "      <td>japanese, last, let, gave, typical, want, poet...</td>\n",
       "      <td>colors, year, feel, score, screen, feelings, m...</td>\n",
       "    </tr>\n",
       "    <tr>\n",
       "      <th>19999</th>\n",
       "      <td>Sometimes I watch a movie and am really impres...</td>\n",
       "      <td>strikes, thomas, starts, went, love, taking, e...</td>\n",
       "      <td>air, mentioning, rest, belt, manner, sadness, ...</td>\n",
       "    </tr>\n",
       "  </tbody>\n",
       "</table>\n",
       "<p>20000 rows × 3 columns</p>\n",
       "</div>"
      ],
      "text/plain": [
       "                                            Sample Tweet  \\\n",
       "0      I grew up (b. 1965) watching and loving the Th...   \n",
       "1      When I put this movie in my DVD player, and sa...   \n",
       "2      Why do people who do not know what a particula...   \n",
       "3      Even though I have great interest in Biblical ...   \n",
       "4      A terrible movie as everyone has said. What ma...   \n",
       "...                                                  ...   \n",
       "19995  Again, I've read all of the comments posted he...   \n",
       "19996  This is without a doubt the funniest of the Cu...   \n",
       "19997  I first saw Thief as a child which makes me al...   \n",
       "19998  This is a very fine and poetic story. Beautifu...   \n",
       "19999  Sometimes I watch a movie and am really impres...   \n",
       "\n",
       "                                         Sentiment Terms  \\\n",
       "0      became, loved, huge, get, counting, cgi, chair...   \n",
       "1      last, following, enjoyed, bad, excellent, let,...   \n",
       "2      replace, go, let, define, running, looks, next...   \n",
       "3      biblical, bad, horrible, mixing, great, get, s...   \n",
       "4      giving, bad, murdered, made, mcnealy, antitrus...   \n",
       "...                                                  ...   \n",
       "19995  intelligent, excellent, convert, loved, increa...   \n",
       "19996  musical, perfect, funniest, dozens, shorts, hi...   \n",
       "19997  realized, korda, amazing, passed, delighted, g...   \n",
       "19998  japanese, last, let, gave, typical, want, poet...   \n",
       "19999  strikes, thomas, starts, went, love, taking, e...   \n",
       "\n",
       "                                            Aspect Terms  \n",
       "0      theme, score, waste, art, school, child, serie...  \n",
       "1      whatever, series, review, atlantis, reviews, v...  \n",
       "2      trash, moonlanding, slut, feel, meanies, compo...  \n",
       "3      death, point, horror, sanity, joke, everything...  \n",
       "4      laugh, record, front, award, involvement, publ...  \n",
       "...                                                  ...  \n",
       "19995  living, plague, syndrome, grants, industry, ad...  \n",
       "19996  times, doubt, comedy, stooges, example, pantom...  \n",
       "19997  thomas, kid, years, child, mccarthy, timeless,...  \n",
       "19998  colors, year, feel, score, screen, feelings, m...  \n",
       "19999  air, mentioning, rest, belt, manner, sadness, ...  \n",
       "\n",
       "[20000 rows x 3 columns]"
      ]
     },
     "execution_count": 12,
     "metadata": {},
     "output_type": "execute_result"
    }
   ],
   "source": [
    "# Extract sentiment and aspect terms for each tweet\n",
    "data = []\n",
    "for tweet in tweets:\n",
    "    sentiment_terms, aspect_terms = aspect_sentiment(tweet)\n",
    "    data.append({\n",
    "        \"Sample Tweet\": tweet,\n",
    "        \"Sentiment Terms\": \", \".join(sentiment_terms),\n",
    "        \"Aspect Terms\": \", \".join(aspect_terms)\n",
    "    })\n",
    "\n",
    "# Create a DataFrame to display the results\n",
    "df_AS = pd.DataFrame(data)\n",
    "df_AS\n"
   ]
  },
  {
   "cell_type": "code",
   "execution_count": 17,
   "metadata": {},
   "outputs": [],
   "source": [
    "df_AS.to_csv('dataset/movies_24k_as.csv')"
   ]
  },
  {
   "cell_type": "code",
   "execution_count": 3,
   "metadata": {},
   "outputs": [],
   "source": [
    "# Buat kamus dan matriks dokumen-term\n",
    "from gensim import corpora, models\n",
    "from sklearn.feature_extraction.text import TfidfVectorizer\n",
    "from scipy.spatial.distance import cosine\n",
    "from collections import Counter"
   ]
  },
  {
   "cell_type": "code",
   "execution_count": 4,
   "metadata": {},
   "outputs": [],
   "source": [
    "preprocess_df = pd.read_csv('dataset/preprocess_movies_20k.csv')\n",
    "reviews = preprocess_df['text'].apply(word_tokenize)\n",
    "tweets = preprocess_df['text'].tolist()"
   ]
  },
  {
   "cell_type": "code",
   "execution_count": 5,
   "metadata": {},
   "outputs": [],
   "source": [
    "# corpus = [\" \".join(preprocess(text)) for text in reviews]\n",
    "\n",
    "dictionary = corpora.Dictionary(reviews)\n",
    "doc_term_matrix = [dictionary.doc2bow(doc) for doc in reviews]"
   ]
  },
  {
   "cell_type": "code",
   "execution_count": 6,
   "metadata": {},
   "outputs": [],
   "source": [
    "# Lakukan LDA\n",
    "lda_model = models.LdaMulticore(doc_term_matrix, num_topics=5, id2word=dictionary, passes=15)\n",
    "topics = lda_model.print_topics(num_words=10)"
   ]
  },
  {
   "cell_type": "code",
   "execution_count": 7,
   "metadata": {},
   "outputs": [
    {
     "data": {
      "text/plain": [
       "[(0,\n",
       "  '0.022*\"film\" + 0.020*\"movie\" + 0.010*\"one\" + 0.006*\"like\" + 0.006*\"time\" + 0.006*\"character\" + 0.006*\"story\" + 0.005*\"great\" + 0.005*\"would\" + 0.005*\"see\"'),\n",
       " (1,\n",
       "  '0.013*\"movie\" + 0.010*\"like\" + 0.008*\"one\" + 0.008*\"film\" + 0.007*\"show\" + 0.006*\"good\" + 0.006*\"character\" + 0.005*\"get\" + 0.005*\"even\" + 0.004*\"really\"'),\n",
       " (2,\n",
       "  '0.013*\"film\" + 0.006*\"one\" + 0.004*\"character\" + 0.004*\"story\" + 0.003*\"like\" + 0.003*\"time\" + 0.003*\"also\" + 0.003*\"life\" + 0.003*\"performance\" + 0.002*\"scene\"'),\n",
       " (3,\n",
       "  '0.021*\"movie\" + 0.014*\"film\" + 0.009*\"one\" + 0.007*\"like\" + 0.006*\"good\" + 0.005*\"really\" + 0.005*\"get\" + 0.005*\"even\" + 0.005*\"time\" + 0.005*\"bad\"'),\n",
       " (4,\n",
       "  '0.020*\"movie\" + 0.009*\"one\" + 0.005*\"film\" + 0.005*\"like\" + 0.004*\"would\" + 0.004*\"time\" + 0.004*\"get\" + 0.003*\"good\" + 0.003*\"first\" + 0.003*\"make\"')]"
      ]
     },
     "execution_count": 7,
     "metadata": {},
     "output_type": "execute_result"
    }
   ],
   "source": [
    "topics"
   ]
  },
  {
   "cell_type": "code",
   "execution_count": 8,
   "metadata": {},
   "outputs": [],
   "source": [
    "# Buat klaster per teks dari topik\n",
    "sentiment_clusters = []\n",
    "aspect_clusters = []\n",
    "teks_cluster = []\n",
    "for tweet in tweets:\n",
    "    tokens = preprocess(tweet)\n",
    "    sentiment_terms, aspect_terms = aspect_sentiment(tweet)\n",
    "\n",
    "    bow = dictionary.doc2bow(tokens)\n",
    "    topic_distribution = lda_model.get_document_topics(bow)\n",
    "    dominant_topic = max(topic_distribution, key=lambda x: x[1])[0]\n",
    "    teks_cluster.append((tweet, dominant_topic)) \n",
    "    # sentiment_clusters teks dan topic dominan dari teks tersebut\n",
    "    sentiment_clusters.append((sentiment_terms, dominant_topic)) \n",
    "    # aspect_cluster teks dan topic dominan dari teks tersebut\n",
    "    aspect_clusters.append((aspect_terms, dominant_topic))"
   ]
  },
  {
   "cell_type": "code",
   "execution_count": 9,
   "metadata": {},
   "outputs": [
    {
     "data": {
      "text/plain": [
       "['use',\n",
       " 'hesitate',\n",
       " 'war',\n",
       " 'school',\n",
       " 'belt',\n",
       " 'talent',\n",
       " 'orange',\n",
       " 'luggage',\n",
       " 'cinema',\n",
       " 'fear',\n",
       " 'compare',\n",
       " 'story',\n",
       " 'tom',\n",
       " 'role',\n",
       " 'hope',\n",
       " 'emotion',\n",
       " 'nick',\n",
       " 'field',\n",
       " 'world',\n",
       " 'friend',\n",
       " 'care',\n",
       " 'lot',\n",
       " 'william',\n",
       " 'others',\n",
       " 'performance',\n",
       " 'thomas',\n",
       " 'son',\n",
       " 'manner',\n",
       " 'mention',\n",
       " 'village',\n",
       " 'masterpiece',\n",
       " 'robinson',\n",
       " 'refuse',\n",
       " 'life',\n",
       " 'mom',\n",
       " 'sense',\n",
       " 'host',\n",
       " 'zac',\n",
       " 'mister',\n",
       " 'discovers',\n",
       " 'stay',\n",
       " 'man',\n",
       " 'london',\n",
       " 'watching',\n",
       " 'air',\n",
       " 'goodnight',\n",
       " 'instruction',\n",
       " 'time',\n",
       " 'happiness',\n",
       " 'john',\n",
       " 'responsibility',\n",
       " 'letter',\n",
       " 'cry',\n",
       " 'lad',\n",
       " 'sadness',\n",
       " 'childhood',\n",
       " 'mine',\n",
       " 'movie',\n",
       " 'tobr',\n",
       " 'boy',\n",
       " 'accepts',\n",
       " 'rest',\n",
       " 'thaw',\n",
       " 'send',\n",
       " 'choice',\n",
       " 'home',\n",
       " 'review']"
      ]
     },
     "execution_count": 9,
     "metadata": {},
     "output_type": "execute_result"
    }
   ],
   "source": [
    "aspect_terms"
   ]
  },
  {
   "cell_type": "code",
   "execution_count": 10,
   "metadata": {},
   "outputs": [],
   "source": [
    "# Buat klaster berdasarkan topik dominan dari seluruh sentiment cluster masing-masing teks\n",
    "# Untuk suatu topic, term yang menyusunnya apa saja\n",
    "sentiment_clusters_by_topic = [[] for _ in range(5)]\n",
    "aspect_clusters_by_topic = [[] for _ in range(5)]\n",
    "\n",
    "for terms, topic in sentiment_clusters:\n",
    "    sentiment_clusters_by_topic[topic].extend(terms)\n",
    "for terms, topic in aspect_clusters:\n",
    "    aspect_clusters_by_topic[topic].extend(terms)"
   ]
  },
  {
   "cell_type": "code",
   "execution_count": 11,
   "metadata": {},
   "outputs": [],
   "source": [
    "teks_cluster_by_topic = [[] for _ in range(5)]\n",
    "for teks, topic in teks_cluster:\n",
    "    teks_cluster_by_topic[topic].append(teks)"
   ]
  },
  {
   "cell_type": "code",
   "execution_count": 12,
   "metadata": {},
   "outputs": [],
   "source": [
    "# Tentukan istilah yang paling umum dalam klaster\n",
    "def top_unigrams(cluster):\n",
    "    counter = Counter(cluster)\n",
    "    # return counter.most_common(1)[0][0] if counter else \"\"\n",
    "    return [term for term, _ in counter.most_common(20)]\n",
    "\n",
    "sentiment_unigrams = [top_unigrams(cluster) for cluster in sentiment_clusters_by_topic]\n",
    "aspect_unigrams = [top_unigrams(cluster) for cluster in aspect_clusters_by_topic]"
   ]
  },
  {
   "cell_type": "code",
   "execution_count": 13,
   "metadata": {},
   "outputs": [
    {
     "data": {
      "image/png": "[encoded data removed]",
      "text/plain": [
       "<Figure size 1000x500 with 1 Axes>"
      ]
     },
     "metadata": {},
     "output_type": "display_data"
    },
    {
     "data": {
      "image/png": "[encoded data removed]",
      "text/plain": [
       "<Figure size 1000x500 with 1 Axes>"
      ]
     },
     "metadata": {},
     "output_type": "display_data"
    }
   ],
   "source": [
    "import matplotlib.pyplot as plt\n",
    "# Menampilkan grafik Top 20 unigrams dari klaster istilah sentimen untuk topik nomor 12\n",
    "topic_number = 2\n",
    "if topic_number < len(sentiment_clusters_by_topic) and topic_number < len(aspect_clusters_by_topic):\n",
    "    sentiment_counter = Counter(sentiment_clusters_by_topic[topic_number])\n",
    "    aspect_counter = Counter(aspect_clusters_by_topic[topic_number])\n",
    "    \n",
    "    most_common_sentiment_unigrams = sentiment_counter.most_common(20)\n",
    "    most_common_aspect_unigrams = aspect_counter.most_common(20)\n",
    "    \n",
    "    # Plot sentiment unigrams\n",
    "    words_sentiment, counts_sentiment = zip(*most_common_sentiment_unigrams)\n",
    "    plt.figure(figsize=(10, 5))\n",
    "    plt.bar(words_sentiment, counts_sentiment)\n",
    "    plt.xticks(rotation=90)\n",
    "    plt.title(f'Top 20 Unigrams from Sentiment Terms Cluster of Topic {topic_number}')\n",
    "    plt.xlabel('Unigrams')\n",
    "    plt.ylabel('Frequency')\n",
    "    plt.show()\n",
    "    \n",
    "    # Plot aspect unigrams\n",
    "    words_aspect, counts_aspect = zip(*most_common_aspect_unigrams)\n",
    "    plt.figure(figsize=(10, 5))\n",
    "    plt.bar(words_aspect, counts_aspect)\n",
    "    plt.xticks(rotation=90)\n",
    "    plt.title(f'Top 20 Unigrams from Aspect Terms Cluster of Topic {topic_number}')\n",
    "    plt.xlabel('Unigrams')\n",
    "    plt.ylabel('Frequency')\n",
    "    plt.show()\n",
    "else:\n",
    "    print(f\"Topic number {topic_number} is out of range.\")"
   ]
  },
  {
   "cell_type": "code",
   "execution_count": 14,
   "metadata": {},
   "outputs": [],
   "source": [
    "# Label topik\n",
    "topic_labels = []\n",
    "tfidf_vectorizer = TfidfVectorizer()\n",
    "combined_terms = [\" \".join(cluster) for cluster in sentiment_clusters_by_topic + aspect_clusters_by_topic]\n",
    "tfidf_matrix = tfidf_vectorizer.fit_transform(combined_terms)"
   ]
  },
  {
   "cell_type": "code",
   "execution_count": 15,
   "metadata": {},
   "outputs": [
    {
     "name": "stdout",
     "output_type": "stream",
     "text": [
      "[('movie', 'good'), ('movie', 'great'), ('movie', 'make'), ('movie', 'see'), ('movie', 'made'), ('movie', 'many'), ('movie', 'seen'), ('movie', 'get'), ('movie', 'much'), ('movie', 'think'), ('movie', 'acting'), ('movie', 'say'), ('movie', 'best'), ('movie', 'know'), ('movie', 'bad'), ('movie', 'real'), ('movie', 'little'), ('movie', 'come'), ('movie', 'give'), ('movie', 'watching'), ('film', 'good'), ('film', 'great'), ('film', 'make'), ('film', 'see'), ('film', 'made'), ('film', 'many'), ('film', 'seen'), ('film', 'get'), ('film', 'much'), ('film', 'think'), ('film', 'acting'), ('film', 'say'), ('film', 'best'), ('film', 'know'), ('film', 'bad'), ('film', 'real'), ('film', 'little'), ('film', 'come'), ('film', 'give'), ('film', 'watching'), ('time', 'good'), ('time', 'great'), ('time', 'make'), ('time', 'see'), ('time', 'made'), ('time', 'many'), ('time', 'seen'), ('time', 'get'), ('time', 'much'), ('time', 'think'), ('time', 'acting'), ('time', 'say'), ('time', 'best'), ('time', 'know'), ('time', 'bad'), ('time', 'real'), ('time', 'little'), ('time', 'come'), ('time', 'give'), ('time', 'watching'), ('story', 'good'), ('story', 'great'), ('story', 'make'), ('story', 'see'), ('story', 'made'), ('story', 'many'), ('story', 'seen'), ('story', 'get'), ('story', 'much'), ('story', 'think'), ('story', 'acting'), ('story', 'say'), ('story', 'best'), ('story', 'know'), ('story', 'bad'), ('story', 'real'), ('story', 'little'), ('story', 'come'), ('story', 'give'), ('story', 'watching'), ('character', 'good'), ('character', 'great'), ('character', 'make'), ('character', 'see'), ('character', 'made'), ('character', 'many'), ('character', 'seen'), ('character', 'get'), ('character', 'much'), ('character', 'think'), ('character', 'acting'), ('character', 'say'), ('character', 'best'), ('character', 'know'), ('character', 'bad'), ('character', 'real'), ('character', 'little'), ('character', 'come'), ('character', 'give'), ('character', 'watching'), ('way', 'good'), ('way', 'great'), ('way', 'make'), ('way', 'see'), ('way', 'made'), ('way', 'many'), ('way', 'seen'), ('way', 'get'), ('way', 'much'), ('way', 'think'), ('way', 'acting'), ('way', 'say'), ('way', 'best'), ('way', 'know'), ('way', 'bad'), ('way', 'real'), ('way', 'little'), ('way', 'come'), ('way', 'give'), ('way', 'watching'), ('people', 'good'), ('people', 'great'), ('people', 'make'), ('people', 'see'), ('people', 'made'), ('people', 'many'), ('people', 'seen'), ('people', 'get'), ('people', 'much'), ('people', 'think'), ('people', 'acting'), ('people', 'say'), ('people', 'best'), ('people', 'know'), ('people', 'bad'), ('people', 'real'), ('people', 'little'), ('people', 'come'), ('people', 'give'), ('people', 'watching'), ('life', 'good'), ('life', 'great'), ('life', 'make'), ('life', 'see'), ('life', 'made'), ('life', 'many'), ('life', 'seen'), ('life', 'get'), ('life', 'much'), ('life', 'think'), ('life', 'acting'), ('life', 'say'), ('life', 'best'), ('life', 'know'), ('life', 'bad'), ('life', 'real'), ('life', 'little'), ('life', 'come'), ('life', 'give'), ('life', 'watching'), ('scene', 'good'), ('scene', 'great'), ('scene', 'make'), ('scene', 'see'), ('scene', 'made'), ('scene', 'many'), ('scene', 'seen'), ('scene', 'get'), ('scene', 'much'), ('scene', 'think'), ('scene', 'acting'), ('scene', 'say'), ('scene', 'best'), ('scene', 'know'), ('scene', 'bad'), ('scene', 'real'), ('scene', 'little'), ('scene', 'come'), ('scene', 'give'), ('scene', 'watching'), ('actor', 'good'), ('actor', 'great'), ('actor', 'make'), ('actor', 'see'), ('actor', 'made'), ('actor', 'many'), ('actor', 'seen'), ('actor', 'get'), ('actor', 'much'), ('actor', 'think'), ('actor', 'acting'), ('actor', 'say'), ('actor', 'best'), ('actor', 'know'), ('actor', 'bad'), ('actor', 'real'), ('actor', 'little'), ('actor', 'come'), ('actor', 'give'), ('actor', 'watching'), ('year', 'good'), ('year', 'great'), ('year', 'make'), ('year', 'see'), ('year', 'made'), ('year', 'many'), ('year', 'seen'), ('year', 'get'), ('year', 'much'), ('year', 'think'), ('year', 'acting'), ('year', 'say'), ('year', 'best'), ('year', 'know'), ('year', 'bad'), ('year', 'real'), ('year', 'little'), ('year', 'come'), ('year', 'give'), ('year', 'watching'), ('thing', 'good'), ('thing', 'great'), ('thing', 'make'), ('thing', 'see'), ('thing', 'made'), ('thing', 'many'), ('thing', 'seen'), ('thing', 'get'), ('thing', 'much'), ('thing', 'think'), ('thing', 'acting'), ('thing', 'say'), ('thing', 'best'), ('thing', 'know'), ('thing', 'bad'), ('thing', 'real'), ('thing', 'little'), ('thing', 'come'), ('thing', 'give'), ('thing', 'watching'), ('watch', 'good'), ('watch', 'great'), ('watch', 'make'), ('watch', 'see'), ('watch', 'made'), ('watch', 'many'), ('watch', 'seen'), ('watch', 'get'), ('watch', 'much'), ('watch', 'think'), ('watch', 'acting'), ('watch', 'say'), ('watch', 'best'), ('watch', 'know'), ('watch', 'bad'), ('watch', 'real'), ('watch', 'little'), ('watch', 'come'), ('watch', 'give'), ('watch', 'watching'), ('plot', 'good'), ('plot', 'great'), ('plot', 'make'), ('plot', 'see'), ('plot', 'made'), ('plot', 'many'), ('plot', 'seen'), ('plot', 'get'), ('plot', 'much'), ('plot', 'think'), ('plot', 'acting'), ('plot', 'say'), ('plot', 'best'), ('plot', 'know'), ('plot', 'bad'), ('plot', 'real'), ('plot', 'little'), ('plot', 'come'), ('plot', 'give'), ('plot', 'watching'), ('performance', 'good'), ('performance', 'great'), ('performance', 'make'), ('performance', 'see'), ('performance', 'made'), ('performance', 'many'), ('performance', 'seen'), ('performance', 'get'), ('performance', 'much'), ('performance', 'think'), ('performance', 'acting'), ('performance', 'say'), ('performance', 'best'), ('performance', 'know'), ('performance', 'bad'), ('performance', 'real'), ('performance', 'little'), ('performance', 'come'), ('performance', 'give'), ('performance', 'watching'), ('work', 'good'), ('work', 'great'), ('work', 'make'), ('work', 'see'), ('work', 'made'), ('work', 'many'), ('work', 'seen'), ('work', 'get'), ('work', 'much'), ('work', 'think'), ('work', 'acting'), ('work', 'say'), ('work', 'best'), ('work', 'know'), ('work', 'bad'), ('work', 'real'), ('work', 'little'), ('work', 'come'), ('work', 'give'), ('work', 'watching'), ('dont', 'good'), ('dont', 'great'), ('dont', 'make'), ('dont', 'see'), ('dont', 'made'), ('dont', 'many'), ('dont', 'seen'), ('dont', 'get'), ('dont', 'much'), ('dont', 'think'), ('dont', 'acting'), ('dont', 'say'), ('dont', 'best'), ('dont', 'know'), ('dont', 'bad'), ('dont', 'real'), ('dont', 'little'), ('dont', 'come'), ('dont', 'give'), ('dont', 'watching'), ('part', 'good'), ('part', 'great'), ('part', 'make'), ('part', 'see'), ('part', 'made'), ('part', 'many'), ('part', 'seen'), ('part', 'get'), ('part', 'much'), ('part', 'think'), ('part', 'acting'), ('part', 'say'), ('part', 'best'), ('part', 'know'), ('part', 'bad'), ('part', 'real'), ('part', 'little'), ('part', 'come'), ('part', 'give'), ('part', 'watching'), ('something', 'good'), ('something', 'great'), ('something', 'make'), ('something', 'see'), ('something', 'made'), ('something', 'many'), ('something', 'seen'), ('something', 'get'), ('something', 'much'), ('something', 'think'), ('something', 'acting'), ('something', 'say'), ('something', 'best'), ('something', 'know'), ('something', 'bad'), ('something', 'real'), ('something', 'little'), ('something', 'come'), ('something', 'give'), ('something', 'watching'), ('director', 'good'), ('director', 'great'), ('director', 'make'), ('director', 'see'), ('director', 'made'), ('director', 'many'), ('director', 'seen'), ('director', 'get'), ('director', 'much'), ('director', 'think'), ('director', 'acting'), ('director', 'say'), ('director', 'best'), ('director', 'know'), ('director', 'bad'), ('director', 'real'), ('director', 'little'), ('director', 'come'), ('director', 'give'), ('director', 'watching')]\n"
     ]
    }
   ],
   "source": [
    "from itertools import product\n",
    "# Menghasilkan kombinasi dari kedua daftar unigram\n",
    "combined_pairs = list(product(aspect_unigrams[0], sentiment_unigrams[0]))\n",
    "\n",
    "# Mengambil 400 pasangan kombinasi pertama\n",
    "top_400_pairs = combined_pairs[:400]\n",
    "\n",
    "print(top_400_pairs)"
   ]
  },
  {
   "cell_type": "code",
   "execution_count": 16,
   "metadata": {},
   "outputs": [
    {
     "name": "stdout",
     "output_type": "stream",
     "text": [
      "['movie good', 'movie great', 'movie make', 'movie see', 'movie made', 'movie many', 'movie seen', 'movie get', 'movie much', 'movie think', 'movie acting', 'movie say', 'movie best', 'movie know', 'movie bad', 'movie real', 'movie little', 'movie come', 'movie give', 'movie watching', 'film good', 'film great', 'film make', 'film see', 'film made', 'film many', 'film seen', 'film get', 'film much', 'film think', 'film acting', 'film say', 'film best', 'film know', 'film bad', 'film real', 'film little', 'film come', 'film give', 'film watching', 'time good', 'time great', 'time make', 'time see', 'time made', 'time many', 'time seen', 'time get', 'time much', 'time think', 'time acting', 'time say', 'time best', 'time know', 'time bad', 'time real', 'time little', 'time come', 'time give', 'time watching', 'story good', 'story great', 'story make', 'story see', 'story made', 'story many', 'story seen', 'story get', 'story much', 'story think', 'story acting', 'story say', 'story best', 'story know', 'story bad', 'story real', 'story little', 'story come', 'story give', 'story watching', 'character good', 'character great', 'character make', 'character see', 'character made', 'character many', 'character seen', 'character get', 'character much', 'character think', 'character acting', 'character say', 'character best', 'character know', 'character bad', 'character real', 'character little', 'character come', 'character give', 'character watching', 'way good', 'way great', 'way make', 'way see', 'way made', 'way many', 'way seen', 'way get', 'way much', 'way think', 'way acting', 'way say', 'way best', 'way know', 'way bad', 'way real', 'way little', 'way come', 'way give', 'way watching', 'people good', 'people great', 'people make', 'people see', 'people made', 'people many', 'people seen', 'people get', 'people much', 'people think', 'people acting', 'people say', 'people best', 'people know', 'people bad', 'people real', 'people little', 'people come', 'people give', 'people watching', 'life good', 'life great', 'life make', 'life see', 'life made', 'life many', 'life seen', 'life get', 'life much', 'life think', 'life acting', 'life say', 'life best', 'life know', 'life bad', 'life real', 'life little', 'life come', 'life give', 'life watching', 'scene good', 'scene great', 'scene make', 'scene see', 'scene made', 'scene many', 'scene seen', 'scene get', 'scene much', 'scene think', 'scene acting', 'scene say', 'scene best', 'scene know', 'scene bad', 'scene real', 'scene little', 'scene come', 'scene give', 'scene watching', 'actor good', 'actor great', 'actor make', 'actor see', 'actor made', 'actor many', 'actor seen', 'actor get', 'actor much', 'actor think', 'actor acting', 'actor say', 'actor best', 'actor know', 'actor bad', 'actor real', 'actor little', 'actor come', 'actor give', 'actor watching', 'year good', 'year great', 'year make', 'year see', 'year made', 'year many', 'year seen', 'year get', 'year much', 'year think', 'year acting', 'year say', 'year best', 'year know', 'year bad', 'year real', 'year little', 'year come', 'year give', 'year watching', 'thing good', 'thing great', 'thing make', 'thing see', 'thing made', 'thing many', 'thing seen', 'thing get', 'thing much', 'thing think', 'thing acting', 'thing say', 'thing best', 'thing know', 'thing bad', 'thing real', 'thing little', 'thing come', 'thing give', 'thing watching', 'watch good', 'watch great', 'watch make', 'watch see', 'watch made', 'watch many', 'watch seen', 'watch get', 'watch much', 'watch think', 'watch acting', 'watch say', 'watch best', 'watch know', 'watch bad', 'watch real', 'watch little', 'watch come', 'watch give', 'watch watching', 'plot good', 'plot great', 'plot make', 'plot see', 'plot made', 'plot many', 'plot seen', 'plot get', 'plot much', 'plot think', 'plot acting', 'plot say', 'plot best', 'plot know', 'plot bad', 'plot real', 'plot little', 'plot come', 'plot give', 'plot watching', 'performance good', 'performance great', 'performance make', 'performance see', 'performance made', 'performance many', 'performance seen', 'performance get', 'performance much', 'performance think', 'performance acting', 'performance say', 'performance best', 'performance know', 'performance bad', 'performance real', 'performance little', 'performance come', 'performance give', 'performance watching', 'work good', 'work great', 'work make', 'work see', 'work made', 'work many', 'work seen', 'work get', 'work much', 'work think', 'work acting', 'work say', 'work best', 'work know', 'work bad', 'work real', 'work little', 'work come', 'work give', 'work watching', 'dont good', 'dont great', 'dont make', 'dont see', 'dont made', 'dont many', 'dont seen', 'dont get', 'dont much', 'dont think', 'dont acting', 'dont say', 'dont best', 'dont know', 'dont bad', 'dont real', 'dont little', 'dont come', 'dont give', 'dont watching', 'part good', 'part great', 'part make', 'part see', 'part made', 'part many', 'part seen', 'part get', 'part much', 'part think', 'part acting', 'part say', 'part best', 'part know', 'part bad', 'part real', 'part little', 'part come', 'part give', 'part watching', 'something good', 'something great', 'something make', 'something see', 'something made', 'something many', 'something seen', 'something get', 'something much', 'something think', 'something acting', 'something say', 'something best', 'something know', 'something bad', 'something real', 'something little', 'something come', 'something give', 'something watching', 'director good', 'director great', 'director make', 'director see', 'director made', 'director many', 'director seen', 'director get', 'director much', 'director think', 'director acting', 'director say', 'director best', 'director know', 'director bad', 'director real', 'director little', 'director come', 'director give', 'director watching']\n"
     ]
    }
   ],
   "source": [
    "transformed = [' '.join(pair) for pair in top_400_pairs]\n",
    "print(transformed)"
   ]
  },
  {
   "cell_type": "code",
   "execution_count": 17,
   "metadata": {},
   "outputs": [
    {
     "data": {
      "text/html": [
       "<div>\n",
       "<style scoped>\n",
       "    .dataframe tbody tr th:only-of-type {\n",
       "        vertical-align: middle;\n",
       "    }\n",
       "\n",
       "    .dataframe tbody tr th {\n",
       "        vertical-align: top;\n",
       "    }\n",
       "\n",
       "    .dataframe thead th {\n",
       "        text-align: right;\n",
       "    }\n",
       "</style>\n",
       "<table border=\"1\" class=\"dataframe\">\n",
       "  <thead>\n",
       "    <tr style=\"text-align: right;\">\n",
       "      <th></th>\n",
       "      <th>Pair</th>\n",
       "    </tr>\n",
       "  </thead>\n",
       "  <tbody>\n",
       "    <tr>\n",
       "      <th>0</th>\n",
       "      <td>movie good</td>\n",
       "    </tr>\n",
       "    <tr>\n",
       "      <th>1</th>\n",
       "      <td>movie great</td>\n",
       "    </tr>\n",
       "    <tr>\n",
       "      <th>2</th>\n",
       "      <td>movie make</td>\n",
       "    </tr>\n",
       "    <tr>\n",
       "      <th>3</th>\n",
       "      <td>movie see</td>\n",
       "    </tr>\n",
       "    <tr>\n",
       "      <th>4</th>\n",
       "      <td>movie made</td>\n",
       "    </tr>\n",
       "    <tr>\n",
       "      <th>...</th>\n",
       "      <td>...</td>\n",
       "    </tr>\n",
       "    <tr>\n",
       "      <th>395</th>\n",
       "      <td>director real</td>\n",
       "    </tr>\n",
       "    <tr>\n",
       "      <th>396</th>\n",
       "      <td>director little</td>\n",
       "    </tr>\n",
       "    <tr>\n",
       "      <th>397</th>\n",
       "      <td>director come</td>\n",
       "    </tr>\n",
       "    <tr>\n",
       "      <th>398</th>\n",
       "      <td>director give</td>\n",
       "    </tr>\n",
       "    <tr>\n",
       "      <th>399</th>\n",
       "      <td>director watching</td>\n",
       "    </tr>\n",
       "  </tbody>\n",
       "</table>\n",
       "<p>400 rows × 1 columns</p>\n",
       "</div>"
      ],
      "text/plain": [
       "                  Pair\n",
       "0           movie good\n",
       "1          movie great\n",
       "2           movie make\n",
       "3            movie see\n",
       "4           movie made\n",
       "..                 ...\n",
       "395      director real\n",
       "396    director little\n",
       "397      director come\n",
       "398      director give\n",
       "399  director watching\n",
       "\n",
       "[400 rows x 1 columns]"
      ]
     },
     "execution_count": 17,
     "metadata": {},
     "output_type": "execute_result"
    }
   ],
   "source": [
    "transformed_df = pd.DataFrame(transformed)\n",
    "transformed_df.rename(columns={0: 'Pair'}, inplace=True)\n",
    "transformed_df"
   ]
  },
  {
   "cell_type": "code",
   "execution_count": 18,
   "metadata": {},
   "outputs": [
    {
     "name": "stdout",
     "output_type": "stream",
     "text": [
      "0 film  movie  one  like  time  character  story  great  would  see\n",
      "1 movie  like  one  film  show  good  character  get  even  really\n",
      "2 film  one  character  story  like  time  also  life  performance  scene\n",
      "3 movie  film  one  like  good  really  get  even  time  bad\n",
      "4 movie  one  film  like  would  time  get  good  first  make\n"
     ]
    }
   ],
   "source": [
    "import re\n",
    "topics = lda_model.show_topics()\n",
    "cleaned_topics = []\n",
    "\n",
    "for topic_id, topic_string in topics:\n",
    "    # Menghapus angka, tanda bintang, tanda plus, dan tanda kutip ganda dari setiap topik\n",
    "    cleaned_topic_string = re.sub(r'[\\d\\*\\+\\\"\\'\\.]', '', topic_string)\n",
    "    # Menambahkan topik yang sudah dibersihkan ke dalam daftar\n",
    "    cleaned_topics.append((topic_id, cleaned_topic_string))\n",
    "\n",
    "# Menampilkan topik yang sudah dibersihkan\n",
    "for topic_id, topic_string in cleaned_topics:\n",
    "    print(topic_id, topic_string)"
   ]
  },
  {
   "cell_type": "code",
   "execution_count": 19,
   "metadata": {},
   "outputs": [
    {
     "data": {
      "text/html": [
       "<div>\n",
       "<style scoped>\n",
       "    .dataframe tbody tr th:only-of-type {\n",
       "        vertical-align: middle;\n",
       "    }\n",
       "\n",
       "    .dataframe tbody tr th {\n",
       "        vertical-align: top;\n",
       "    }\n",
       "\n",
       "    .dataframe thead th {\n",
       "        text-align: right;\n",
       "    }\n",
       "</style>\n",
       "<table border=\"1\" class=\"dataframe\">\n",
       "  <thead>\n",
       "    <tr style=\"text-align: right;\">\n",
       "      <th></th>\n",
       "      <th>Topics</th>\n",
       "      <th>Keywords</th>\n",
       "    </tr>\n",
       "  </thead>\n",
       "  <tbody>\n",
       "    <tr>\n",
       "      <th>0</th>\n",
       "      <td>0</td>\n",
       "      <td>film  movie  one  like  time  character  story...</td>\n",
       "    </tr>\n",
       "    <tr>\n",
       "      <th>1</th>\n",
       "      <td>1</td>\n",
       "      <td>movie  like  one  film  show  good  character ...</td>\n",
       "    </tr>\n",
       "    <tr>\n",
       "      <th>2</th>\n",
       "      <td>2</td>\n",
       "      <td>film  one  character  story  like  time  also ...</td>\n",
       "    </tr>\n",
       "    <tr>\n",
       "      <th>3</th>\n",
       "      <td>3</td>\n",
       "      <td>movie  film  one  like  good  really  get  eve...</td>\n",
       "    </tr>\n",
       "    <tr>\n",
       "      <th>4</th>\n",
       "      <td>4</td>\n",
       "      <td>movie  one  film  like  would  time  get  good...</td>\n",
       "    </tr>\n",
       "  </tbody>\n",
       "</table>\n",
       "</div>"
      ],
      "text/plain": [
       "   Topics                                           Keywords\n",
       "0       0  film  movie  one  like  time  character  story...\n",
       "1       1  movie  like  one  film  show  good  character ...\n",
       "2       2  film  one  character  story  like  time  also ...\n",
       "3       3  movie  film  one  like  good  really  get  eve...\n",
       "4       4  movie  one  film  like  would  time  get  good..."
      ]
     },
     "execution_count": 19,
     "metadata": {},
     "output_type": "execute_result"
    }
   ],
   "source": [
    "topics_df = pd.DataFrame(cleaned_topics)\n",
    "topics_df.rename(columns={0: 'Topics', 1: 'Keywords'}, inplace=True)\n",
    "topics_df"
   ]
  },
  {
   "cell_type": "code",
   "execution_count": 39,
   "metadata": {},
   "outputs": [],
   "source": [
    "from sklearn.feature_extraction.text import TfidfVectorizer\n",
    "from sklearn.metrics.pairwise import cosine_similarity\n",
    "\n",
    "# Function to calculate cosine similarity\n",
    "def calculate_cosine_similarity(tfidf_matrix, topic_vector):\n",
    "    return cosine_similarity(tfidf_matrix, topic_vector)\n",
    "\n",
    "# Vectorize the terms using TfidfVectorizer\n",
    "vectorizer = TfidfVectorizer()\n",
    "topics_tfidf_matrix = vectorizer.fit_transform(topics_df['Keywords'])\n",
    "pair_tfidf_matrix = vectorizer.transform(transformed_df['Pair'])\n",
    "\n",
    "# Calculate cosine similarity for each review and topic\n",
    "similarities = calculate_cosine_similarity(topics_tfidf_matrix, pair_tfidf_matrix)"
   ]
  },
  {
   "cell_type": "code",
   "execution_count": 40,
   "metadata": {},
   "outputs": [
    {
     "data": {
      "text/plain": [
       "5"
      ]
     },
     "execution_count": 40,
     "metadata": {},
     "output_type": "execute_result"
    }
   ],
   "source": [
    "len(similarities)"
   ]
  },
  {
   "cell_type": "code",
   "execution_count": 41,
   "metadata": {},
   "outputs": [
    {
     "data": {
      "text/html": [
       "<div>\n",
       "<style scoped>\n",
       "    .dataframe tbody tr th:only-of-type {\n",
       "        vertical-align: middle;\n",
       "    }\n",
       "\n",
       "    .dataframe tbody tr th {\n",
       "        vertical-align: top;\n",
       "    }\n",
       "\n",
       "    .dataframe thead th {\n",
       "        text-align: right;\n",
       "    }\n",
       "</style>\n",
       "<table border=\"1\" class=\"dataframe\">\n",
       "  <thead>\n",
       "    <tr style=\"text-align: right;\">\n",
       "      <th>Pair</th>\n",
       "      <th>movie good</th>\n",
       "      <th>movie great</th>\n",
       "      <th>movie make</th>\n",
       "      <th>movie see</th>\n",
       "      <th>movie made</th>\n",
       "      <th>movie many</th>\n",
       "      <th>movie seen</th>\n",
       "      <th>movie get</th>\n",
       "      <th>movie much</th>\n",
       "      <th>movie think</th>\n",
       "      <th>...</th>\n",
       "      <th>director acting</th>\n",
       "      <th>director say</th>\n",
       "      <th>director best</th>\n",
       "      <th>director know</th>\n",
       "      <th>director bad</th>\n",
       "      <th>director real</th>\n",
       "      <th>director little</th>\n",
       "      <th>director come</th>\n",
       "      <th>director give</th>\n",
       "      <th>director watching</th>\n",
       "    </tr>\n",
       "  </thead>\n",
       "  <tbody>\n",
       "    <tr>\n",
       "      <th>0</th>\n",
       "      <td>0.161128</td>\n",
       "      <td>0.509932</td>\n",
       "      <td>0.122858</td>\n",
       "      <td>0.509932</td>\n",
       "      <td>0.250298</td>\n",
       "      <td>0.250298</td>\n",
       "      <td>0.250298</td>\n",
       "      <td>0.161128</td>\n",
       "      <td>0.250298</td>\n",
       "      <td>0.250298</td>\n",
       "      <td>...</td>\n",
       "      <td>0.0</td>\n",
       "      <td>0.0</td>\n",
       "      <td>0.0</td>\n",
       "      <td>0.0</td>\n",
       "      <td>0.00000</td>\n",
       "      <td>0.0</td>\n",
       "      <td>0.0</td>\n",
       "      <td>0.0</td>\n",
       "      <td>0.0</td>\n",
       "      <td>0.0</td>\n",
       "    </tr>\n",
       "    <tr>\n",
       "      <th>1</th>\n",
       "      <td>0.406025</td>\n",
       "      <td>0.128295</td>\n",
       "      <td>0.128295</td>\n",
       "      <td>0.128295</td>\n",
       "      <td>0.261376</td>\n",
       "      <td>0.261376</td>\n",
       "      <td>0.261376</td>\n",
       "      <td>0.406025</td>\n",
       "      <td>0.261376</td>\n",
       "      <td>0.261376</td>\n",
       "      <td>...</td>\n",
       "      <td>0.0</td>\n",
       "      <td>0.0</td>\n",
       "      <td>0.0</td>\n",
       "      <td>0.0</td>\n",
       "      <td>0.00000</td>\n",
       "      <td>0.0</td>\n",
       "      <td>0.0</td>\n",
       "      <td>0.0</td>\n",
       "      <td>0.0</td>\n",
       "      <td>0.0</td>\n",
       "    </tr>\n",
       "    <tr>\n",
       "      <th>2</th>\n",
       "      <td>0.000000</td>\n",
       "      <td>0.000000</td>\n",
       "      <td>0.000000</td>\n",
       "      <td>0.000000</td>\n",
       "      <td>0.000000</td>\n",
       "      <td>0.000000</td>\n",
       "      <td>0.000000</td>\n",
       "      <td>0.000000</td>\n",
       "      <td>0.000000</td>\n",
       "      <td>0.000000</td>\n",
       "      <td>...</td>\n",
       "      <td>0.0</td>\n",
       "      <td>0.0</td>\n",
       "      <td>0.0</td>\n",
       "      <td>0.0</td>\n",
       "      <td>0.00000</td>\n",
       "      <td>0.0</td>\n",
       "      <td>0.0</td>\n",
       "      <td>0.0</td>\n",
       "      <td>0.0</td>\n",
       "      <td>0.0</td>\n",
       "    </tr>\n",
       "    <tr>\n",
       "      <th>3</th>\n",
       "      <td>0.411878</td>\n",
       "      <td>0.130145</td>\n",
       "      <td>0.130145</td>\n",
       "      <td>0.130145</td>\n",
       "      <td>0.265145</td>\n",
       "      <td>0.265145</td>\n",
       "      <td>0.265145</td>\n",
       "      <td>0.411878</td>\n",
       "      <td>0.265145</td>\n",
       "      <td>0.265145</td>\n",
       "      <td>...</td>\n",
       "      <td>0.0</td>\n",
       "      <td>0.0</td>\n",
       "      <td>0.0</td>\n",
       "      <td>0.0</td>\n",
       "      <td>0.47063</td>\n",
       "      <td>0.0</td>\n",
       "      <td>0.0</td>\n",
       "      <td>0.0</td>\n",
       "      <td>0.0</td>\n",
       "      <td>0.0</td>\n",
       "    </tr>\n",
       "    <tr>\n",
       "      <th>4</th>\n",
       "      <td>0.396823</td>\n",
       "      <td>0.125388</td>\n",
       "      <td>0.520434</td>\n",
       "      <td>0.125388</td>\n",
       "      <td>0.255453</td>\n",
       "      <td>0.255453</td>\n",
       "      <td>0.255453</td>\n",
       "      <td>0.396823</td>\n",
       "      <td>0.255453</td>\n",
       "      <td>0.255453</td>\n",
       "      <td>...</td>\n",
       "      <td>0.0</td>\n",
       "      <td>0.0</td>\n",
       "      <td>0.0</td>\n",
       "      <td>0.0</td>\n",
       "      <td>0.00000</td>\n",
       "      <td>0.0</td>\n",
       "      <td>0.0</td>\n",
       "      <td>0.0</td>\n",
       "      <td>0.0</td>\n",
       "      <td>0.0</td>\n",
       "    </tr>\n",
       "  </tbody>\n",
       "</table>\n",
       "<p>5 rows × 400 columns</p>\n",
       "</div>"
      ],
      "text/plain": [
       "Pair  movie good  movie great  movie make  movie see  movie made  movie many  \\\n",
       "0       0.161128     0.509932    0.122858   0.509932    0.250298    0.250298   \n",
       "1       0.406025     0.128295    0.128295   0.128295    0.261376    0.261376   \n",
       "2       0.000000     0.000000    0.000000   0.000000    0.000000    0.000000   \n",
       "3       0.411878     0.130145    0.130145   0.130145    0.265145    0.265145   \n",
       "4       0.396823     0.125388    0.520434   0.125388    0.255453    0.255453   \n",
       "\n",
       "Pair  movie seen  movie get  movie much  movie think  ...  director acting  \\\n",
       "0       0.250298   0.161128    0.250298     0.250298  ...              0.0   \n",
       "1       0.261376   0.406025    0.261376     0.261376  ...              0.0   \n",
       "2       0.000000   0.000000    0.000000     0.000000  ...              0.0   \n",
       "3       0.265145   0.411878    0.265145     0.265145  ...              0.0   \n",
       "4       0.255453   0.396823    0.255453     0.255453  ...              0.0   \n",
       "\n",
       "Pair  director say  director best  director know  director bad  director real  \\\n",
       "0              0.0            0.0            0.0       0.00000            0.0   \n",
       "1              0.0            0.0            0.0       0.00000            0.0   \n",
       "2              0.0            0.0            0.0       0.00000            0.0   \n",
       "3              0.0            0.0            0.0       0.47063            0.0   \n",
       "4              0.0            0.0            0.0       0.00000            0.0   \n",
       "\n",
       "Pair  director little  director come  director give  director watching  \n",
       "0                 0.0            0.0            0.0                0.0  \n",
       "1                 0.0            0.0            0.0                0.0  \n",
       "2                 0.0            0.0            0.0                0.0  \n",
       "3                 0.0            0.0            0.0                0.0  \n",
       "4                 0.0            0.0            0.0                0.0  \n",
       "\n",
       "[5 rows x 400 columns]"
      ]
     },
     "execution_count": 41,
     "metadata": {},
     "output_type": "execute_result"
    }
   ],
   "source": [
    "# Create a DataFrame to store the similarities\n",
    "similarities_df = pd.DataFrame(similarities, columns=transformed_df['Pair'])\n",
    "\n",
    "# Add review_id to the DataFrame for reference\n",
    "# similarities_df['review_id'] = review['review_id']\n",
    "\n",
    "# Display the resulting DataFrame\n",
    "similarities_df"
   ]
  },
  {
   "cell_type": "code",
   "execution_count": 42,
   "metadata": {},
   "outputs": [],
   "source": [
    "# Find the index of the maximum similarity for each review\n",
    "max_similarity_index = similarities.argmax(axis=1)"
   ]
  },
  {
   "cell_type": "code",
   "execution_count": 43,
   "metadata": {},
   "outputs": [
    {
     "data": {
      "text/plain": [
       "array([ 61,  80, 144,  14,   2], dtype=int64)"
      ]
     },
     "execution_count": 43,
     "metadata": {},
     "output_type": "execute_result"
    }
   ],
   "source": [
    "max_similarity_index"
   ]
  },
  {
   "cell_type": "code",
   "execution_count": 47,
   "metadata": {},
   "outputs": [
    {
     "data": {
      "text/plain": [
       "['story great', 'character good', 'life made', 'movie bad', 'movie make']"
      ]
     },
     "execution_count": 47,
     "metadata": {},
     "output_type": "execute_result"
    }
   ],
   "source": [
    "# get label or column name\n",
    "label_pair = []\n",
    "for i in max_similarity_index:\n",
    "    label_pair.append(transformed[i])\n",
    "\n",
    "label_pair"
   ]
  },
  {
   "cell_type": "code",
   "execution_count": 48,
   "metadata": {},
   "outputs": [
    {
     "data": {
      "text/html": [
       "<div>\n",
       "<style scoped>\n",
       "    .dataframe tbody tr th:only-of-type {\n",
       "        vertical-align: middle;\n",
       "    }\n",
       "\n",
       "    .dataframe tbody tr th {\n",
       "        vertical-align: top;\n",
       "    }\n",
       "\n",
       "    .dataframe thead th {\n",
       "        text-align: right;\n",
       "    }\n",
       "</style>\n",
       "<table border=\"1\" class=\"dataframe\">\n",
       "  <thead>\n",
       "    <tr style=\"text-align: right;\">\n",
       "      <th></th>\n",
       "      <th>Keywords</th>\n",
       "      <th>Aspect</th>\n",
       "    </tr>\n",
       "  </thead>\n",
       "  <tbody>\n",
       "    <tr>\n",
       "      <th>0</th>\n",
       "      <td>film  movie  one  like  time  character  story...</td>\n",
       "      <td>story great</td>\n",
       "    </tr>\n",
       "    <tr>\n",
       "      <th>1</th>\n",
       "      <td>movie  like  one  film  show  good  character ...</td>\n",
       "      <td>character good</td>\n",
       "    </tr>\n",
       "    <tr>\n",
       "      <th>2</th>\n",
       "      <td>film  one  character  story  like  time  also ...</td>\n",
       "      <td>life made</td>\n",
       "    </tr>\n",
       "    <tr>\n",
       "      <th>3</th>\n",
       "      <td>movie  film  one  like  good  really  get  eve...</td>\n",
       "      <td>movie bad</td>\n",
       "    </tr>\n",
       "    <tr>\n",
       "      <th>4</th>\n",
       "      <td>movie  one  film  like  would  time  get  good...</td>\n",
       "      <td>movie make</td>\n",
       "    </tr>\n",
       "  </tbody>\n",
       "</table>\n",
       "</div>"
      ],
      "text/plain": [
       "                                            Keywords          Aspect\n",
       "0  film  movie  one  like  time  character  story...     story great\n",
       "1  movie  like  one  film  show  good  character ...  character good\n",
       "2  film  one  character  story  like  time  also ...       life made\n",
       "3  movie  film  one  like  good  really  get  eve...       movie bad\n",
       "4  movie  one  film  like  would  time  get  good...      movie make"
      ]
     },
     "execution_count": 48,
     "metadata": {},
     "output_type": "execute_result"
    }
   ],
   "source": [
    "# Concate max aspect similarity and review\n",
    "df_single_aspect = pd.concat([topics_df['Keywords'], pd.DataFrame(label_pair)], axis=1)\n",
    "df_single_aspect = df_single_aspect.rename(columns={0: 'Aspect'})\n",
    "df_single_aspect"
   ]
  }
 ],
 "metadata": {
  "kernelspec": {
   "display_name": ".venv",
   "language": "python",
   "name": "python3"
  },
  "language_info": {
   "codemirror_mode": {
    "name": "ipython",
    "version": 3
   },
   "file_extension": ".py",
   "mimetype": "text/x-python",
   "name": "python",
   "nbconvert_exporter": "python",
   "pygments_lexer": "ipython3",
   "version": "3.11.9"
  }
 },
 "nbformat": 4,
 "nbformat_minor": 2
}
