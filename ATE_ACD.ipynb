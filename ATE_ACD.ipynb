{
 "cells": [
  {
   "cell_type": "markdown",
   "metadata": {},
   "source": [
    "# This is version to aspect term extraction and aspect category detection using SATLabel framework\n",
    "https://www.researchgate.net/publication/359792164_SATLabel_A_Framework_for_Sentiment_and_Aspect_Terms_Based_Automatic_Topic_Labeling"
   ]
  },
  {
   "cell_type": "code",
   "execution_count": 1,
   "metadata": {},
   "outputs": [],
   "source": [
    "import nltk\n",
    "from nltk.corpus import stopwords\n",
    "from nltk.tokenize import word_tokenize\n",
    "from gensim import corpora, models\n",
    "from sklearn.feature_extraction.text import TfidfVectorizer\n",
    "from sklearn.cluster import KMeans\n",
    "from scipy.spatial.distance import cosine\n",
    "from collections import Counter\n",
    "import numpy as np\n",
    "from nltk import pos_tag\n",
    "import pandas as pd"
   ]
  },
  {
   "cell_type": "code",
   "execution_count": 2,
   "metadata": {},
   "outputs": [],
   "source": [
    "# read preprocess dataset\n",
    "df = pd.read_csv('dataset/movies_20k.csv')"
   ]
  },
  {
   "cell_type": "code",
   "execution_count": 3,
   "metadata": {},
   "outputs": [
    {
     "data": {
      "text/html": [
       "<div>\n",
       "<style scoped>\n",
       "    .dataframe tbody tr th:only-of-type {\n",
       "        vertical-align: middle;\n",
       "    }\n",
       "\n",
       "    .dataframe tbody tr th {\n",
       "        vertical-align: top;\n",
       "    }\n",
       "\n",
       "    .dataframe thead th {\n",
       "        text-align: right;\n",
       "    }\n",
       "</style>\n",
       "<table border=\"1\" class=\"dataframe\">\n",
       "  <thead>\n",
       "    <tr style=\"text-align: right;\">\n",
       "      <th></th>\n",
       "      <th>index</th>\n",
       "      <th>text</th>\n",
       "      <th>label</th>\n",
       "    </tr>\n",
       "  </thead>\n",
       "  <tbody>\n",
       "    <tr>\n",
       "      <th>0</th>\n",
       "      <td>0</td>\n",
       "      <td>I grew up (b. 1965) watching and loving the Th...</td>\n",
       "      <td>0</td>\n",
       "    </tr>\n",
       "    <tr>\n",
       "      <th>1</th>\n",
       "      <td>1</td>\n",
       "      <td>When I put this movie in my DVD player, and sa...</td>\n",
       "      <td>0</td>\n",
       "    </tr>\n",
       "    <tr>\n",
       "      <th>2</th>\n",
       "      <td>2</td>\n",
       "      <td>Why do people who do not know what a particula...</td>\n",
       "      <td>0</td>\n",
       "    </tr>\n",
       "    <tr>\n",
       "      <th>3</th>\n",
       "      <td>3</td>\n",
       "      <td>Even though I have great interest in Biblical ...</td>\n",
       "      <td>0</td>\n",
       "    </tr>\n",
       "    <tr>\n",
       "      <th>4</th>\n",
       "      <td>5</td>\n",
       "      <td>A terrible movie as everyone has said. What ma...</td>\n",
       "      <td>0</td>\n",
       "    </tr>\n",
       "  </tbody>\n",
       "</table>\n",
       "</div>"
      ],
      "text/plain": [
       "   index                                               text  label\n",
       "0      0  I grew up (b. 1965) watching and loving the Th...      0\n",
       "1      1  When I put this movie in my DVD player, and sa...      0\n",
       "2      2  Why do people who do not know what a particula...      0\n",
       "3      3  Even though I have great interest in Biblical ...      0\n",
       "4      5  A terrible movie as everyone has said. What ma...      0"
      ]
     },
     "execution_count": 3,
     "metadata": {},
     "output_type": "execute_result"
    }
   ],
   "source": [
    "df.head()"
   ]
  },
  {
   "cell_type": "code",
   "execution_count": 4,
   "metadata": {},
   "outputs": [],
   "source": [
    "# Make sure to download the necessary NLTK data files\n",
    "# nltk.download('punkt')\n",
    "# nltk.download('stopwords')\n",
    "# nltk.download('averaged_perceptron_tagger')\n",
    "\n",
    "# Preprocess tweets\n",
    "def preprocess(tweet):\n",
    "    stop_words = set(stopwords.words('english'))\n",
    "    tokens = word_tokenize(tweet.lower())\n",
    "    filtered_tokens = [word for word in tokens if word.isalnum() and word not in stop_words]\n",
    "    return filtered_tokens\n",
    "\n",
    "def aspect_sentiment(text):\n",
    "    # Tokenisasi teks menjadi kata-kata individual\n",
    "    tokens = word_tokenize(text)\n",
    "    # Ambil daftar stop words dalam bahasa Inggris dari NLTK\n",
    "    stop_words = set(stopwords.words('english'))\n",
    "    # Hapus tanda baca dan ubah menjadi huruf kecil\n",
    "    tokens = [word.lower() for word in tokens if word.isalnum()]\n",
    "    # Tag POS pada token\n",
    "    pos_tags = pos_tag(tokens)\n",
    "    # Buat daftar istilah sentimen dan aspek\n",
    "    sentiment_terms = []\n",
    "    aspect_terms = []\n",
    "    # Iterasi melalui token\n",
    "    for word, tag in pos_tags:\n",
    "        # Cek apakah kata tersebut merupakan stop word\n",
    "        if word in stop_words:\n",
    "            continue\n",
    "        # Cek apakah kata tersebut merupakan adjektiva atau verba (istilah sentimen)\n",
    "        if tag.startswith('JJ') or tag.startswith('VB'):\n",
    "            sentiment_terms.append(word)\n",
    "        # Cek apakah kata tersebut merupakan nomina (istilah aspek)\n",
    "        elif tag.startswith('NN'):\n",
    "            aspect_terms.append(word)\n",
    "    # Menghapus duplikat dari istilah sentimen dan aspek\n",
    "    sentiment_terms = list(set(sentiment_terms))\n",
    "    aspect_terms = list(set(aspect_terms))\n",
    "    return sentiment_terms, aspect_terms"
   ]
  },
  {
   "cell_type": "code",
   "execution_count": 5,
   "metadata": {},
   "outputs": [],
   "source": [
    "tweets = df['text'].tolist()"
   ]
  },
  {
   "cell_type": "code",
   "execution_count": 12,
   "metadata": {},
   "outputs": [
    {
     "data": {
      "text/html": [
       "<div>\n",
       "<style scoped>\n",
       "    .dataframe tbody tr th:only-of-type {\n",
       "        vertical-align: middle;\n",
       "    }\n",
       "\n",
       "    .dataframe tbody tr th {\n",
       "        vertical-align: top;\n",
       "    }\n",
       "\n",
       "    .dataframe thead th {\n",
       "        text-align: right;\n",
       "    }\n",
       "</style>\n",
       "<table border=\"1\" class=\"dataframe\">\n",
       "  <thead>\n",
       "    <tr style=\"text-align: right;\">\n",
       "      <th></th>\n",
       "      <th>Sample Tweet</th>\n",
       "      <th>Sentiment Terms</th>\n",
       "      <th>Aspect Terms</th>\n",
       "    </tr>\n",
       "  </thead>\n",
       "  <tbody>\n",
       "    <tr>\n",
       "      <th>0</th>\n",
       "      <td>I grew up (b. 1965) watching and loving the Th...</td>\n",
       "      <td>became, loved, huge, get, counting, cgi, chair...</td>\n",
       "      <td>theme, score, waste, art, school, child, serie...</td>\n",
       "    </tr>\n",
       "    <tr>\n",
       "      <th>1</th>\n",
       "      <td>When I put this movie in my DVD player, and sa...</td>\n",
       "      <td>last, following, enjoyed, bad, excellent, let,...</td>\n",
       "      <td>whatever, series, review, atlantis, reviews, v...</td>\n",
       "    </tr>\n",
       "    <tr>\n",
       "      <th>2</th>\n",
       "      <td>Why do people who do not know what a particula...</td>\n",
       "      <td>replace, go, let, define, running, looks, next...</td>\n",
       "      <td>trash, moonlanding, slut, feel, meanies, compo...</td>\n",
       "    </tr>\n",
       "    <tr>\n",
       "      <th>3</th>\n",
       "      <td>Even though I have great interest in Biblical ...</td>\n",
       "      <td>biblical, bad, horrible, mixing, great, get, s...</td>\n",
       "      <td>death, point, horror, sanity, joke, everything...</td>\n",
       "    </tr>\n",
       "    <tr>\n",
       "      <th>4</th>\n",
       "      <td>A terrible movie as everyone has said. What ma...</td>\n",
       "      <td>giving, bad, murdered, made, mcnealy, antitrus...</td>\n",
       "      <td>laugh, record, front, award, involvement, publ...</td>\n",
       "    </tr>\n",
       "    <tr>\n",
       "      <th>...</th>\n",
       "      <td>...</td>\n",
       "      <td>...</td>\n",
       "      <td>...</td>\n",
       "    </tr>\n",
       "    <tr>\n",
       "      <th>19995</th>\n",
       "      <td>Again, I've read all of the comments posted he...</td>\n",
       "      <td>intelligent, excellent, convert, loved, increa...</td>\n",
       "      <td>living, plague, syndrome, grants, industry, ad...</td>\n",
       "    </tr>\n",
       "    <tr>\n",
       "      <th>19996</th>\n",
       "      <td>This is without a doubt the funniest of the Cu...</td>\n",
       "      <td>musical, perfect, funniest, dozens, shorts, hi...</td>\n",
       "      <td>times, doubt, comedy, stooges, example, pantom...</td>\n",
       "    </tr>\n",
       "    <tr>\n",
       "      <th>19997</th>\n",
       "      <td>I first saw Thief as a child which makes me al...</td>\n",
       "      <td>realized, korda, amazing, passed, delighted, g...</td>\n",
       "      <td>thomas, kid, years, child, mccarthy, timeless,...</td>\n",
       "    </tr>\n",
       "    <tr>\n",
       "      <th>19998</th>\n",
       "      <td>This is a very fine and poetic story. Beautifu...</td>\n",
       "      <td>japanese, last, let, gave, typical, want, poet...</td>\n",
       "      <td>colors, year, feel, score, screen, feelings, m...</td>\n",
       "    </tr>\n",
       "    <tr>\n",
       "      <th>19999</th>\n",
       "      <td>Sometimes I watch a movie and am really impres...</td>\n",
       "      <td>strikes, thomas, starts, went, love, taking, e...</td>\n",
       "      <td>air, mentioning, rest, belt, manner, sadness, ...</td>\n",
       "    </tr>\n",
       "  </tbody>\n",
       "</table>\n",
       "<p>20000 rows × 3 columns</p>\n",
       "</div>"
      ],
      "text/plain": [
       "                                            Sample Tweet  \\\n",
       "0      I grew up (b. 1965) watching and loving the Th...   \n",
       "1      When I put this movie in my DVD player, and sa...   \n",
       "2      Why do people who do not know what a particula...   \n",
       "3      Even though I have great interest in Biblical ...   \n",
       "4      A terrible movie as everyone has said. What ma...   \n",
       "...                                                  ...   \n",
       "19995  Again, I've read all of the comments posted he...   \n",
       "19996  This is without a doubt the funniest of the Cu...   \n",
       "19997  I first saw Thief as a child which makes me al...   \n",
       "19998  This is a very fine and poetic story. Beautifu...   \n",
       "19999  Sometimes I watch a movie and am really impres...   \n",
       "\n",
       "                                         Sentiment Terms  \\\n",
       "0      became, loved, huge, get, counting, cgi, chair...   \n",
       "1      last, following, enjoyed, bad, excellent, let,...   \n",
       "2      replace, go, let, define, running, looks, next...   \n",
       "3      biblical, bad, horrible, mixing, great, get, s...   \n",
       "4      giving, bad, murdered, made, mcnealy, antitrus...   \n",
       "...                                                  ...   \n",
       "19995  intelligent, excellent, convert, loved, increa...   \n",
       "19996  musical, perfect, funniest, dozens, shorts, hi...   \n",
       "19997  realized, korda, amazing, passed, delighted, g...   \n",
       "19998  japanese, last, let, gave, typical, want, poet...   \n",
       "19999  strikes, thomas, starts, went, love, taking, e...   \n",
       "\n",
       "                                            Aspect Terms  \n",
       "0      theme, score, waste, art, school, child, serie...  \n",
       "1      whatever, series, review, atlantis, reviews, v...  \n",
       "2      trash, moonlanding, slut, feel, meanies, compo...  \n",
       "3      death, point, horror, sanity, joke, everything...  \n",
       "4      laugh, record, front, award, involvement, publ...  \n",
       "...                                                  ...  \n",
       "19995  living, plague, syndrome, grants, industry, ad...  \n",
       "19996  times, doubt, comedy, stooges, example, pantom...  \n",
       "19997  thomas, kid, years, child, mccarthy, timeless,...  \n",
       "19998  colors, year, feel, score, screen, feelings, m...  \n",
       "19999  air, mentioning, rest, belt, manner, sadness, ...  \n",
       "\n",
       "[20000 rows x 3 columns]"
      ]
     },
     "execution_count": 12,
     "metadata": {},
     "output_type": "execute_result"
    }
   ],
   "source": [
    "# Extract sentiment and aspect terms for each tweet\n",
    "data = []\n",
    "for tweet in tweets:\n",
    "    sentiment_terms, aspect_terms = aspect_sentiment(tweet)\n",
    "    data.append({\n",
    "        \"Sample Tweet\": tweet,\n",
    "        \"Sentiment Terms\": \", \".join(sentiment_terms),\n",
    "        \"Aspect Terms\": \", \".join(aspect_terms)\n",
    "    })\n",
    "\n",
    "# Create a DataFrame to display the results\n",
    "df_AS = pd.DataFrame(data)\n",
    "df_AS\n"
   ]
  },
  {
   "cell_type": "code",
   "execution_count": 17,
   "metadata": {},
   "outputs": [],
   "source": [
    "df_AS.to_csv('dataset/movies_24k_as.csv')"
   ]
  },
  {
   "cell_type": "code",
   "execution_count": 7,
   "metadata": {},
   "outputs": [],
   "source": [
    "# Buat kamus dan matriks dokumen-term\n",
    "from gensim import corpora, models\n",
    "from sklearn.feature_extraction.text import TfidfVectorizer\n",
    "from scipy.spatial.distance import cosine\n",
    "from collections import Counter"
   ]
  },
  {
   "cell_type": "code",
   "execution_count": 6,
   "metadata": {},
   "outputs": [],
   "source": [
    "preprocess_df = pd.read_csv('dataset/preprocess_movies_20k.csv')\n",
    "reviews = preprocess_df['text'].apply(word_tokenize)\n",
    "tweets = preprocess_df['text'].tolist()"
   ]
  },
  {
   "cell_type": "code",
   "execution_count": 8,
   "metadata": {},
   "outputs": [],
   "source": [
    "# corpus = [\" \".join(preprocess(text)) for text in reviews]\n",
    "\n",
    "dictionary = corpora.Dictionary(reviews)\n",
    "doc_term_matrix = [dictionary.doc2bow(doc) for doc in reviews]"
   ]
  },
  {
   "cell_type": "code",
   "execution_count": 9,
   "metadata": {},
   "outputs": [],
   "source": [
    "# Lakukan LDA\n",
    "lda_model = models.LdaMulticore(doc_term_matrix, num_topics=20, id2word=dictionary, passes=15)\n",
    "topics = lda_model.print_topics(num_words=10)"
   ]
  },
  {
   "cell_type": "code",
   "execution_count": 108,
   "metadata": {},
   "outputs": [
    {
     "data": {
      "text/plain": [
       "[(0,\n",
       "  '0.019*\"film\" + 0.017*\"movie\" + 0.009*\"story\" + 0.007*\"character\" + 0.007*\"great\" + 0.006*\"one\" + 0.005*\"love\" + 0.004*\"like\" + 0.004*\"performance\" + 0.004*\"good\"'),\n",
       " (1,\n",
       "  '0.007*\"great\" + 0.007*\"movie\" + 0.006*\"story\" + 0.006*\"like\" + 0.005*\"film\" + 0.005*\"good\" + 0.005*\"one\" + 0.004*\"character\" + 0.003*\"man\" + 0.003*\"see\"'),\n",
       " (2,\n",
       "  '0.026*\"film\" + 0.014*\"movie\" + 0.009*\"like\" + 0.008*\"one\" + 0.008*\"time\" + 0.006*\"dont\" + 0.006*\"story\" + 0.006*\"see\" + 0.006*\"even\" + 0.005*\"would\"'),\n",
       " (3,\n",
       "  '0.013*\"movie\" + 0.010*\"one\" + 0.010*\"film\" + 0.007*\"like\" + 0.006*\"character\" + 0.005*\"show\" + 0.005*\"story\" + 0.005*\"time\" + 0.005*\"would\" + 0.005*\"life\"'),\n",
       " (4,\n",
       "  '0.010*\"movie\" + 0.008*\"one\" + 0.006*\"episode\" + 0.006*\"time\" + 0.005*\"love\" + 0.005*\"good\" + 0.005*\"show\" + 0.005*\"character\" + 0.005*\"see\" + 0.005*\"life\"'),\n",
       " (5,\n",
       "  '0.019*\"movie\" + 0.008*\"film\" + 0.006*\"one\" + 0.006*\"scene\" + 0.005*\"like\" + 0.005*\"story\" + 0.005*\"great\" + 0.004*\"character\" + 0.004*\"time\" + 0.004*\"people\"'),\n",
       " (6,\n",
       "  '0.044*\"movie\" + 0.012*\"like\" + 0.011*\"one\" + 0.008*\"good\" + 0.008*\"bad\" + 0.007*\"really\" + 0.007*\"get\" + 0.007*\"film\" + 0.007*\"would\" + 0.007*\"even\"'),\n",
       " (7,\n",
       "  '0.011*\"film\" + 0.006*\"scene\" + 0.005*\"one\" + 0.004*\"love\" + 0.004*\"like\" + 0.003*\"good\" + 0.003*\"movie\" + 0.003*\"would\" + 0.003*\"make\" + 0.003*\"time\"'),\n",
       " (8,\n",
       "  '0.014*\"movie\" + 0.008*\"film\" + 0.007*\"one\" + 0.006*\"even\" + 0.005*\"like\" + 0.005*\"character\" + 0.004*\"show\" + 0.004*\"plot\" + 0.004*\"get\" + 0.004*\"good\"'),\n",
       " (9,\n",
       "  '0.018*\"movie\" + 0.016*\"film\" + 0.009*\"one\" + 0.007*\"make\" + 0.007*\"character\" + 0.007*\"good\" + 0.005*\"story\" + 0.005*\"scene\" + 0.005*\"even\" + 0.005*\"like\"'),\n",
       " (10,\n",
       "  '0.006*\"story\" + 0.006*\"character\" + 0.006*\"movie\" + 0.005*\"one\" + 0.005*\"time\" + 0.005*\"like\" + 0.004*\"show\" + 0.004*\"well\" + 0.004*\"also\" + 0.004*\"much\"'),\n",
       " (11,\n",
       "  '0.013*\"film\" + 0.007*\"one\" + 0.006*\"make\" + 0.005*\"movie\" + 0.004*\"like\" + 0.004*\"get\" + 0.004*\"time\" + 0.003*\"even\" + 0.003*\"people\" + 0.003*\"two\"'),\n",
       " (12,\n",
       "  '0.021*\"movie\" + 0.008*\"one\" + 0.007*\"film\" + 0.004*\"make\" + 0.004*\"think\" + 0.004*\"character\" + 0.004*\"like\" + 0.004*\"get\" + 0.003*\"love\" + 0.003*\"plot\"'),\n",
       " (13,\n",
       "  '0.026*\"film\" + 0.009*\"one\" + 0.005*\"time\" + 0.004*\"war\" + 0.004*\"like\" + 0.004*\"well\" + 0.004*\"would\" + 0.003*\"american\" + 0.003*\"made\" + 0.003*\"first\"'),\n",
       " (14,\n",
       "  '0.009*\"one\" + 0.007*\"film\" + 0.005*\"character\" + 0.005*\"movie\" + 0.004*\"like\" + 0.003*\"scene\" + 0.003*\"good\" + 0.003*\"get\" + 0.003*\"well\" + 0.003*\"also\"'),\n",
       " (15,\n",
       "  '0.013*\"game\" + 0.008*\"film\" + 0.004*\"one\" + 0.004*\"life\" + 0.004*\"time\" + 0.003*\"also\" + 0.003*\"get\" + 0.003*\"play\" + 0.002*\"young\" + 0.002*\"good\"'),\n",
       " (16,\n",
       "  '0.013*\"film\" + 0.006*\"one\" + 0.005*\"character\" + 0.004*\"movie\" + 0.004*\"great\" + 0.004*\"time\" + 0.003*\"get\" + 0.003*\"see\" + 0.003*\"life\" + 0.003*\"much\"'),\n",
       " (17,\n",
       "  '0.030*\"film\" + 0.010*\"one\" + 0.006*\"character\" + 0.005*\"story\" + 0.005*\"like\" + 0.005*\"time\" + 0.005*\"movie\" + 0.004*\"scene\" + 0.004*\"much\" + 0.004*\"make\"'),\n",
       " (18,\n",
       "  '0.014*\"film\" + 0.007*\"movie\" + 0.007*\"one\" + 0.006*\"good\" + 0.005*\"like\" + 0.004*\"scene\" + 0.004*\"story\" + 0.003*\"character\" + 0.003*\"also\" + 0.003*\"life\"'),\n",
       " (19,\n",
       "  '0.010*\"film\" + 0.008*\"movie\" + 0.007*\"one\" + 0.005*\"time\" + 0.004*\"get\" + 0.004*\"also\" + 0.004*\"scene\" + 0.003*\"good\" + 0.003*\"like\" + 0.003*\"story\"')]"
      ]
     },
     "execution_count": 108,
     "metadata": {},
     "output_type": "execute_result"
    }
   ],
   "source": [
    "topics"
   ]
  },
  {
   "cell_type": "code",
   "execution_count": 129,
   "metadata": {},
   "outputs": [],
   "source": [
    "# Buat klaster per teks dari topik\n",
    "sentiment_clusters = []\n",
    "aspect_clusters = []\n",
    "teks_cluster = []\n",
    "for tweet in tweets:\n",
    "    tokens = preprocess(tweet)\n",
    "    sentiment_terms, aspect_terms = aspect_sentiment(tweet)\n",
    "\n",
    "    bow = dictionary.doc2bow(tokens)\n",
    "    topic_distribution = lda_model.get_document_topics(bow)\n",
    "    dominant_topic = max(topic_distribution, key=lambda x: x[1])[0]\n",
    "    teks_cluster.append((tweet, dominant_topic)) \n",
    "    # sentiment_clusters teks dan topic dominan dari teks tersebut\n",
    "    sentiment_clusters.append((sentiment_terms, dominant_topic)) \n",
    "    # aspect_cluster teks dan topic dominan dari teks tersebut\n",
    "    aspect_clusters.append((aspect_terms, dominant_topic))"
   ]
  },
  {
   "cell_type": "code",
   "execution_count": 192,
   "metadata": {},
   "outputs": [
    {
     "data": {
      "text/plain": [
       "'film movie story character performance time actor role life director way plot love watch thing scene people lot year family'"
      ]
     },
     "execution_count": 192,
     "metadata": {},
     "output_type": "execute_result"
    }
   ],
   "source": [
    "aspect_terms"
   ]
  },
  {
   "cell_type": "code",
   "execution_count": 130,
   "metadata": {},
   "outputs": [],
   "source": [
    "# Buat klaster berdasarkan topik dominan dari seluruh sentiment cluster masing-masing teks\n",
    "# Untuk suatu topic, term yang menyusunnya apa saja\n",
    "sentiment_clusters_by_topic = [[] for _ in range(20)]\n",
    "aspect_clusters_by_topic = [[] for _ in range(20)]\n",
    "\n",
    "for terms, topic in sentiment_clusters:\n",
    "    sentiment_clusters_by_topic[topic].extend(terms)\n",
    "for terms, topic in aspect_clusters:\n",
    "    aspect_clusters_by_topic[topic].extend(terms)"
   ]
  },
  {
   "cell_type": "code",
   "execution_count": 180,
   "metadata": {},
   "outputs": [],
   "source": [
    "teks_cluster_by_topic = [[] for _ in range(20)]\n",
    "for teks, topic in teks_cluster:\n",
    "    teks_cluster_by_topic[topic].append(teks)"
   ]
  },
  {
   "cell_type": "code",
   "execution_count": 185,
   "metadata": {},
   "outputs": [],
   "source": [
    "# Tentukan istilah yang paling umum dalam klaster\n",
    "def top_unigrams(cluster):\n",
    "    counter = Counter(cluster)\n",
    "    # return counter.most_common(1)[0][0] if counter else \"\"\n",
    "    return [term for term, _ in counter.most_common(20)]\n",
    "\n",
    "sentiment_unigrams = [top_unigrams(cluster) for cluster in sentiment_clusters_by_topic]\n",
    "aspect_unigrams = [top_unigrams(cluster) for cluster in aspect_clusters_by_topic]"
   ]
  },
  {
   "cell_type": "code",
   "execution_count": 186,
   "metadata": {},
   "outputs": [
    {
     "data": {
      "image/png": "[encoded data removed]",
      "text/plain": [
       "<Figure size 1000x500 with 1 Axes>"
      ]
     },
     "metadata": {},
     "output_type": "display_data"
    },
    {
     "data": {
      "image/png": "[encoded data removed]",
      "text/plain": [
       "<Figure size 1000x500 with 1 Axes>"
      ]
     },
     "metadata": {},
     "output_type": "display_data"
    }
   ],
   "source": [
    "import matplotlib.pyplot as plt\n",
    "# Menampilkan grafik Top 20 unigrams dari klaster istilah sentimen untuk topik nomor 12\n",
    "topic_number = 12\n",
    "if topic_number < len(sentiment_clusters_by_topic) and topic_number < len(aspect_clusters_by_topic):\n",
    "    sentiment_counter = Counter(sentiment_clusters_by_topic[topic_number])\n",
    "    aspect_counter = Counter(aspect_clusters_by_topic[topic_number])\n",
    "    \n",
    "    most_common_sentiment_unigrams = sentiment_counter.most_common(20)\n",
    "    most_common_aspect_unigrams = aspect_counter.most_common(20)\n",
    "    \n",
    "    # Plot sentiment unigrams\n",
    "    words_sentiment, counts_sentiment = zip(*most_common_sentiment_unigrams)\n",
    "    plt.figure(figsize=(10, 5))\n",
    "    plt.bar(words_sentiment, counts_sentiment)\n",
    "    plt.xticks(rotation=90)\n",
    "    plt.title(f'Top 20 Unigrams from Sentiment Terms Cluster of Topic {topic_number}')\n",
    "    plt.xlabel('Unigrams')\n",
    "    plt.ylabel('Frequency')\n",
    "    plt.show()\n",
    "    \n",
    "    # Plot aspect unigrams\n",
    "    words_aspect, counts_aspect = zip(*most_common_aspect_unigrams)\n",
    "    plt.figure(figsize=(10, 5))\n",
    "    plt.bar(words_aspect, counts_aspect)\n",
    "    plt.xticks(rotation=90)\n",
    "    plt.title(f'Top 20 Unigrams from Aspect Terms Cluster of Topic {topic_number}')\n",
    "    plt.xlabel('Unigrams')\n",
    "    plt.ylabel('Frequency')\n",
    "    plt.show()\n",
    "else:\n",
    "    print(f\"Topic number {topic_number} is out of range.\")"
   ]
  },
  {
   "cell_type": "code",
   "execution_count": 123,
   "metadata": {},
   "outputs": [
    {
     "data": {
      "text/plain": [
       "(12,\n",
       " '0.021*\"movie\" + 0.008*\"one\" + 0.007*\"film\" + 0.004*\"make\" + 0.004*\"think\" + 0.004*\"character\" + 0.004*\"like\" + 0.004*\"get\" + 0.003*\"love\" + 0.003*\"plot\"')"
      ]
     },
     "execution_count": 123,
     "metadata": {},
     "output_type": "execute_result"
    }
   ],
   "source": [
    "topics[12]"
   ]
  },
  {
   "cell_type": "code",
   "execution_count": 135,
   "metadata": {},
   "outputs": [],
   "source": [
    "# Label topik\n",
    "topic_labels = []\n",
    "tfidf_vectorizer = TfidfVectorizer()\n",
    "combined_terms = [\" \".join(cluster) for cluster in sentiment_clusters_by_topic + aspect_clusters_by_topic]\n",
    "tfidf_matrix = tfidf_vectorizer.fit_transform(combined_terms)"
   ]
  },
  {
   "cell_type": "code",
   "execution_count": 223,
   "metadata": {},
   "outputs": [
    {
     "name": "stdout",
     "output_type": "stream",
     "text": [
      "[('film', 'great'), ('film', 'good'), ('film', 'many'), ('film', 'make'), ('film', 'acting'), ('film', 'seen'), ('film', 'see'), ('film', 'give'), ('film', 'beautiful'), ('film', 'made'), ('film', 'little'), ('film', 'love'), ('film', 'best'), ('film', 'last'), ('film', 'wonderful'), ('film', 'much'), ('film', 'bad'), ('film', 'true'), ('film', 'young'), ('film', 'think'), ('movie', 'great'), ('movie', 'good'), ('movie', 'many'), ('movie', 'make'), ('movie', 'acting'), ('movie', 'seen'), ('movie', 'see'), ('movie', 'give'), ('movie', 'beautiful'), ('movie', 'made'), ('movie', 'little'), ('movie', 'love'), ('movie', 'best'), ('movie', 'last'), ('movie', 'wonderful'), ('movie', 'much'), ('movie', 'bad'), ('movie', 'true'), ('movie', 'young'), ('movie', 'think'), ('story', 'great'), ('story', 'good'), ('story', 'many'), ('story', 'make'), ('story', 'acting'), ('story', 'seen'), ('story', 'see'), ('story', 'give'), ('story', 'beautiful'), ('story', 'made'), ('story', 'little'), ('story', 'love'), ('story', 'best'), ('story', 'last'), ('story', 'wonderful'), ('story', 'much'), ('story', 'bad'), ('story', 'true'), ('story', 'young'), ('story', 'think'), ('character', 'great'), ('character', 'good'), ('character', 'many'), ('character', 'make'), ('character', 'acting'), ('character', 'seen'), ('character', 'see'), ('character', 'give'), ('character', 'beautiful'), ('character', 'made'), ('character', 'little'), ('character', 'love'), ('character', 'best'), ('character', 'last'), ('character', 'wonderful'), ('character', 'much'), ('character', 'bad'), ('character', 'true'), ('character', 'young'), ('character', 'think'), ('performance', 'great'), ('performance', 'good'), ('performance', 'many'), ('performance', 'make'), ('performance', 'acting'), ('performance', 'seen'), ('performance', 'see'), ('performance', 'give'), ('performance', 'beautiful'), ('performance', 'made'), ('performance', 'little'), ('performance', 'love'), ('performance', 'best'), ('performance', 'last'), ('performance', 'wonderful'), ('performance', 'much'), ('performance', 'bad'), ('performance', 'true'), ('performance', 'young'), ('performance', 'think'), ('time', 'great'), ('time', 'good'), ('time', 'many'), ('time', 'make'), ('time', 'acting'), ('time', 'seen'), ('time', 'see'), ('time', 'give'), ('time', 'beautiful'), ('time', 'made'), ('time', 'little'), ('time', 'love'), ('time', 'best'), ('time', 'last'), ('time', 'wonderful'), ('time', 'much'), ('time', 'bad'), ('time', 'true'), ('time', 'young'), ('time', 'think'), ('actor', 'great'), ('actor', 'good'), ('actor', 'many'), ('actor', 'make'), ('actor', 'acting'), ('actor', 'seen'), ('actor', 'see'), ('actor', 'give'), ('actor', 'beautiful'), ('actor', 'made'), ('actor', 'little'), ('actor', 'love'), ('actor', 'best'), ('actor', 'last'), ('actor', 'wonderful'), ('actor', 'much'), ('actor', 'bad'), ('actor', 'true'), ('actor', 'young'), ('actor', 'think'), ('role', 'great'), ('role', 'good'), ('role', 'many'), ('role', 'make'), ('role', 'acting'), ('role', 'seen'), ('role', 'see'), ('role', 'give'), ('role', 'beautiful'), ('role', 'made'), ('role', 'little'), ('role', 'love'), ('role', 'best'), ('role', 'last'), ('role', 'wonderful'), ('role', 'much'), ('role', 'bad'), ('role', 'true'), ('role', 'young'), ('role', 'think'), ('life', 'great'), ('life', 'good'), ('life', 'many'), ('life', 'make'), ('life', 'acting'), ('life', 'seen'), ('life', 'see'), ('life', 'give'), ('life', 'beautiful'), ('life', 'made'), ('life', 'little'), ('life', 'love'), ('life', 'best'), ('life', 'last'), ('life', 'wonderful'), ('life', 'much'), ('life', 'bad'), ('life', 'true'), ('life', 'young'), ('life', 'think'), ('director', 'great'), ('director', 'good'), ('director', 'many'), ('director', 'make'), ('director', 'acting'), ('director', 'seen'), ('director', 'see'), ('director', 'give'), ('director', 'beautiful'), ('director', 'made'), ('director', 'little'), ('director', 'love'), ('director', 'best'), ('director', 'last'), ('director', 'wonderful'), ('director', 'much'), ('director', 'bad'), ('director', 'true'), ('director', 'young'), ('director', 'think'), ('way', 'great'), ('way', 'good'), ('way', 'many'), ('way', 'make'), ('way', 'acting'), ('way', 'seen'), ('way', 'see'), ('way', 'give'), ('way', 'beautiful'), ('way', 'made'), ('way', 'little'), ('way', 'love'), ('way', 'best'), ('way', 'last'), ('way', 'wonderful'), ('way', 'much'), ('way', 'bad'), ('way', 'true'), ('way', 'young'), ('way', 'think'), ('plot', 'great'), ('plot', 'good'), ('plot', 'many'), ('plot', 'make'), ('plot', 'acting'), ('plot', 'seen'), ('plot', 'see'), ('plot', 'give'), ('plot', 'beautiful'), ('plot', 'made'), ('plot', 'little'), ('plot', 'love'), ('plot', 'best'), ('plot', 'last'), ('plot', 'wonderful'), ('plot', 'much'), ('plot', 'bad'), ('plot', 'true'), ('plot', 'young'), ('plot', 'think'), ('love', 'great'), ('love', 'good'), ('love', 'many'), ('love', 'make'), ('love', 'acting'), ('love', 'seen'), ('love', 'see'), ('love', 'give'), ('love', 'beautiful'), ('love', 'made'), ('love', 'little'), ('love', 'love'), ('love', 'best'), ('love', 'last'), ('love', 'wonderful'), ('love', 'much'), ('love', 'bad'), ('love', 'true'), ('love', 'young'), ('love', 'think'), ('thing', 'great'), ('thing', 'good'), ('thing', 'many'), ('thing', 'make'), ('thing', 'acting'), ('thing', 'seen'), ('thing', 'see'), ('thing', 'give'), ('thing', 'beautiful'), ('thing', 'made'), ('thing', 'little'), ('thing', 'love'), ('thing', 'best'), ('thing', 'last'), ('thing', 'wonderful'), ('thing', 'much'), ('thing', 'bad'), ('thing', 'true'), ('thing', 'young'), ('thing', 'think'), ('scene', 'great'), ('scene', 'good'), ('scene', 'many'), ('scene', 'make'), ('scene', 'acting'), ('scene', 'seen'), ('scene', 'see'), ('scene', 'give'), ('scene', 'beautiful'), ('scene', 'made'), ('scene', 'little'), ('scene', 'love'), ('scene', 'best'), ('scene', 'last'), ('scene', 'wonderful'), ('scene', 'much'), ('scene', 'bad'), ('scene', 'true'), ('scene', 'young'), ('scene', 'think'), ('people', 'great'), ('people', 'good'), ('people', 'many'), ('people', 'make'), ('people', 'acting'), ('people', 'seen'), ('people', 'see'), ('people', 'give'), ('people', 'beautiful'), ('people', 'made'), ('people', 'little'), ('people', 'love'), ('people', 'best'), ('people', 'last'), ('people', 'wonderful'), ('people', 'much'), ('people', 'bad'), ('people', 'true'), ('people', 'young'), ('people', 'think'), ('watch', 'great'), ('watch', 'good'), ('watch', 'many'), ('watch', 'make'), ('watch', 'acting'), ('watch', 'seen'), ('watch', 'see'), ('watch', 'give'), ('watch', 'beautiful'), ('watch', 'made'), ('watch', 'little'), ('watch', 'love'), ('watch', 'best'), ('watch', 'last'), ('watch', 'wonderful'), ('watch', 'much'), ('watch', 'bad'), ('watch', 'true'), ('watch', 'young'), ('watch', 'think'), ('lot', 'great'), ('lot', 'good'), ('lot', 'many'), ('lot', 'make'), ('lot', 'acting'), ('lot', 'seen'), ('lot', 'see'), ('lot', 'give'), ('lot', 'beautiful'), ('lot', 'made'), ('lot', 'little'), ('lot', 'love'), ('lot', 'best'), ('lot', 'last'), ('lot', 'wonderful'), ('lot', 'much'), ('lot', 'bad'), ('lot', 'true'), ('lot', 'young'), ('lot', 'think'), ('year', 'great'), ('year', 'good'), ('year', 'many'), ('year', 'make'), ('year', 'acting'), ('year', 'seen'), ('year', 'see'), ('year', 'give'), ('year', 'beautiful'), ('year', 'made'), ('year', 'little'), ('year', 'love'), ('year', 'best'), ('year', 'last'), ('year', 'wonderful'), ('year', 'much'), ('year', 'bad'), ('year', 'true'), ('year', 'young'), ('year', 'think'), ('family', 'great'), ('family', 'good'), ('family', 'many'), ('family', 'make'), ('family', 'acting'), ('family', 'seen'), ('family', 'see'), ('family', 'give'), ('family', 'beautiful'), ('family', 'made'), ('family', 'little'), ('family', 'love'), ('family', 'best'), ('family', 'last'), ('family', 'wonderful'), ('family', 'much'), ('family', 'bad'), ('family', 'true'), ('family', 'young'), ('family', 'think')]\n"
     ]
    }
   ],
   "source": [
    "from itertools import product\n",
    "# Menghasilkan kombinasi dari kedua daftar unigram\n",
    "combined_pairs = list(product(aspect_unigrams[0], sentiment_unigrams[0]))\n",
    "\n",
    "# Mengambil 400 pasangan kombinasi pertama\n",
    "top_400_pairs = combined_pairs[:400]\n",
    "\n",
    "print(top_400_pairs)"
   ]
  },
  {
   "cell_type": "code",
   "execution_count": 231,
   "metadata": {},
   "outputs": [
    {
     "data": {
      "text/plain": [
       "('film', 'beautiful')"
      ]
     },
     "execution_count": 231,
     "metadata": {},
     "output_type": "execute_result"
    }
   ],
   "source": [
    "top_400_pairs[8]"
   ]
  },
  {
   "cell_type": "code",
   "execution_count": 234,
   "metadata": {},
   "outputs": [
    {
     "data": {
      "text/html": [
       "<div>\n",
       "<style scoped>\n",
       "    .dataframe tbody tr th:only-of-type {\n",
       "        vertical-align: middle;\n",
       "    }\n",
       "\n",
       "    .dataframe tbody tr th {\n",
       "        vertical-align: top;\n",
       "    }\n",
       "\n",
       "    .dataframe thead th {\n",
       "        text-align: right;\n",
       "    }\n",
       "</style>\n",
       "<table border=\"1\" class=\"dataframe\">\n",
       "  <thead>\n",
       "    <tr style=\"text-align: right;\">\n",
       "      <th></th>\n",
       "      <th>0</th>\n",
       "      <th>1</th>\n",
       "    </tr>\n",
       "  </thead>\n",
       "  <tbody>\n",
       "    <tr>\n",
       "      <th>0</th>\n",
       "      <td>film</td>\n",
       "      <td>great</td>\n",
       "    </tr>\n",
       "    <tr>\n",
       "      <th>1</th>\n",
       "      <td>film</td>\n",
       "      <td>good</td>\n",
       "    </tr>\n",
       "    <tr>\n",
       "      <th>2</th>\n",
       "      <td>film</td>\n",
       "      <td>many</td>\n",
       "    </tr>\n",
       "    <tr>\n",
       "      <th>3</th>\n",
       "      <td>film</td>\n",
       "      <td>make</td>\n",
       "    </tr>\n",
       "    <tr>\n",
       "      <th>4</th>\n",
       "      <td>film</td>\n",
       "      <td>acting</td>\n",
       "    </tr>\n",
       "    <tr>\n",
       "      <th>...</th>\n",
       "      <td>...</td>\n",
       "      <td>...</td>\n",
       "    </tr>\n",
       "    <tr>\n",
       "      <th>395</th>\n",
       "      <td>family</td>\n",
       "      <td>much</td>\n",
       "    </tr>\n",
       "    <tr>\n",
       "      <th>396</th>\n",
       "      <td>family</td>\n",
       "      <td>bad</td>\n",
       "    </tr>\n",
       "    <tr>\n",
       "      <th>397</th>\n",
       "      <td>family</td>\n",
       "      <td>true</td>\n",
       "    </tr>\n",
       "    <tr>\n",
       "      <th>398</th>\n",
       "      <td>family</td>\n",
       "      <td>young</td>\n",
       "    </tr>\n",
       "    <tr>\n",
       "      <th>399</th>\n",
       "      <td>family</td>\n",
       "      <td>think</td>\n",
       "    </tr>\n",
       "  </tbody>\n",
       "</table>\n",
       "<p>400 rows × 2 columns</p>\n",
       "</div>"
      ],
      "text/plain": [
       "          0       1\n",
       "0      film   great\n",
       "1      film    good\n",
       "2      film    many\n",
       "3      film    make\n",
       "4      film  acting\n",
       "..      ...     ...\n",
       "395  family    much\n",
       "396  family     bad\n",
       "397  family    true\n",
       "398  family   young\n",
       "399  family   think\n",
       "\n",
       "[400 rows x 2 columns]"
      ]
     },
     "execution_count": 234,
     "metadata": {},
     "output_type": "execute_result"
    }
   ],
   "source": [
    "pd.DataFrame(top_400_pairs)"
   ]
  },
  {
   "cell_type": "code",
   "execution_count": 230,
   "metadata": {},
   "outputs": [
    {
     "name": "stdout",
     "output_type": "stream",
     "text": [
      "Topic 1: dont know chasidik movement film abouti saw film year agoi orthodox woman living orthodox chasidic community tell offended movieits far away reality scary director could least hire chasidik rabbi brief consultation making realistic movie ultra orthodoxs example meir davening morning prayer jewish wedding mikveh ritual bath customsbr movie loaded technical inaccuraciesbut bothered spiritual side orthodoxs portrayed next taliban woman powerless men ultimate ruler pleaseno one force jewish girl chuppa orthodoxsalso live law halacha clearly state man responsibility towards wifeno beating rapingalsoand man even rabbiis allowed peak woman mikvehand balanit place hand woman headwhile shes taking ritual bath idea immerse whole body one time director clearly trying bash ultra orthodoxs could least nice educated mannerbr love story cute credibledialogs long boringthe ending sucked totallyfor drama least hoping nice ending sitting felt deserved obviously someone trying make nice consciousness soothing movie le observant jew non jew perhapslook fundamentalist evil meanand succeed long thing short hoping nice europien kane level movie got instead tradition bashing unrealisticmistakenly guiding junk mean todaywe live time free never everyone right choose malka chose rock singerrivka made choicemeir made many people non observing background choosing orthodox judaism daysbecausein mad world religion might nice gateway\n",
      "Topic 2: dont know chasidik movement film abouti saw film year agoi orthodox woman living orthodox chasidic community tell offended movieits far away reality scary director could least hire chasidik rabbi brief consultation making realistic movie ultra orthodoxs example meir davening morning prayer jewish wedding mikveh ritual bath customsbr movie loaded technical inaccuraciesbut bothered spiritual side orthodoxs portrayed next taliban woman powerless men ultimate ruler pleaseno one force jewish girl chuppa orthodoxsalso live law halacha clearly state man responsibility towards wifeno beating rapingalsoand man even rabbiis allowed peak woman mikvehand balanit place hand woman headwhile shes taking ritual bath idea immerse whole body one time director clearly trying bash ultra orthodoxs could least nice educated mannerbr love story cute credibledialogs long boringthe ending sucked totallyfor drama least hoping nice ending sitting felt deserved obviously someone trying make nice consciousness soothing movie le observant jew non jew perhapslook fundamentalist evil meanand succeed long thing short hoping nice europien kane level movie got instead tradition bashing unrealisticmistakenly guiding junk mean todaywe live time free never everyone right choose malka chose rock singerrivka made choicemeir made many people non observing background choosing orthodox judaism daysbecausein mad world religion might nice gateway\n",
      "Topic 3: dont know chasidik movement film abouti saw film year agoi orthodox woman living orthodox chasidic community tell offended movieits far away reality scary director could least hire chasidik rabbi brief consultation making realistic movie ultra orthodoxs example meir davening morning prayer jewish wedding mikveh ritual bath customsbr movie loaded technical inaccuraciesbut bothered spiritual side orthodoxs portrayed next taliban woman powerless men ultimate ruler pleaseno one force jewish girl chuppa orthodoxsalso live law halacha clearly state man responsibility towards wifeno beating rapingalsoand man even rabbiis allowed peak woman mikvehand balanit place hand woman headwhile shes taking ritual bath idea immerse whole body one time director clearly trying bash ultra orthodoxs could least nice educated mannerbr love story cute credibledialogs long boringthe ending sucked totallyfor drama least hoping nice ending sitting felt deserved obviously someone trying make nice consciousness soothing movie le observant jew non jew perhapslook fundamentalist evil meanand succeed long thing short hoping nice europien kane level movie got instead tradition bashing unrealisticmistakenly guiding junk mean todaywe live time free never everyone right choose malka chose rock singerrivka made choicemeir made many people non observing background choosing orthodox judaism daysbecausein mad world religion might nice gateway\n",
      "Topic 4: dont know chasidik movement film abouti saw film year agoi orthodox woman living orthodox chasidic community tell offended movieits far away reality scary director could least hire chasidik rabbi brief consultation making realistic movie ultra orthodoxs example meir davening morning prayer jewish wedding mikveh ritual bath customsbr movie loaded technical inaccuraciesbut bothered spiritual side orthodoxs portrayed next taliban woman powerless men ultimate ruler pleaseno one force jewish girl chuppa orthodoxsalso live law halacha clearly state man responsibility towards wifeno beating rapingalsoand man even rabbiis allowed peak woman mikvehand balanit place hand woman headwhile shes taking ritual bath idea immerse whole body one time director clearly trying bash ultra orthodoxs could least nice educated mannerbr love story cute credibledialogs long boringthe ending sucked totallyfor drama least hoping nice ending sitting felt deserved obviously someone trying make nice consciousness soothing movie le observant jew non jew perhapslook fundamentalist evil meanand succeed long thing short hoping nice europien kane level movie got instead tradition bashing unrealisticmistakenly guiding junk mean todaywe live time free never everyone right choose malka chose rock singerrivka made choicemeir made many people non observing background choosing orthodox judaism daysbecausein mad world religion might nice gateway\n",
      "Topic 5: dont know chasidik movement film abouti saw film year agoi orthodox woman living orthodox chasidic community tell offended movieits far away reality scary director could least hire chasidik rabbi brief consultation making realistic movie ultra orthodoxs example meir davening morning prayer jewish wedding mikveh ritual bath customsbr movie loaded technical inaccuraciesbut bothered spiritual side orthodoxs portrayed next taliban woman powerless men ultimate ruler pleaseno one force jewish girl chuppa orthodoxsalso live law halacha clearly state man responsibility towards wifeno beating rapingalsoand man even rabbiis allowed peak woman mikvehand balanit place hand woman headwhile shes taking ritual bath idea immerse whole body one time director clearly trying bash ultra orthodoxs could least nice educated mannerbr love story cute credibledialogs long boringthe ending sucked totallyfor drama least hoping nice ending sitting felt deserved obviously someone trying make nice consciousness soothing movie le observant jew non jew perhapslook fundamentalist evil meanand succeed long thing short hoping nice europien kane level movie got instead tradition bashing unrealisticmistakenly guiding junk mean todaywe live time free never everyone right choose malka chose rock singerrivka made choicemeir made many people non observing background choosing orthodox judaism daysbecausein mad world religion might nice gateway\n",
      "Topic 6: dont know chasidik movement film abouti saw film year agoi orthodox woman living orthodox chasidic community tell offended movieits far away reality scary director could least hire chasidik rabbi brief consultation making realistic movie ultra orthodoxs example meir davening morning prayer jewish wedding mikveh ritual bath customsbr movie loaded technical inaccuraciesbut bothered spiritual side orthodoxs portrayed next taliban woman powerless men ultimate ruler pleaseno one force jewish girl chuppa orthodoxsalso live law halacha clearly state man responsibility towards wifeno beating rapingalsoand man even rabbiis allowed peak woman mikvehand balanit place hand woman headwhile shes taking ritual bath idea immerse whole body one time director clearly trying bash ultra orthodoxs could least nice educated mannerbr love story cute credibledialogs long boringthe ending sucked totallyfor drama least hoping nice ending sitting felt deserved obviously someone trying make nice consciousness soothing movie le observant jew non jew perhapslook fundamentalist evil meanand succeed long thing short hoping nice europien kane level movie got instead tradition bashing unrealisticmistakenly guiding junk mean todaywe live time free never everyone right choose malka chose rock singerrivka made choicemeir made many people non observing background choosing orthodox judaism daysbecausein mad world religion might nice gateway\n",
      "Topic 7: dont know chasidik movement film abouti saw film year agoi orthodox woman living orthodox chasidic community tell offended movieits far away reality scary director could least hire chasidik rabbi brief consultation making realistic movie ultra orthodoxs example meir davening morning prayer jewish wedding mikveh ritual bath customsbr movie loaded technical inaccuraciesbut bothered spiritual side orthodoxs portrayed next taliban woman powerless men ultimate ruler pleaseno one force jewish girl chuppa orthodoxsalso live law halacha clearly state man responsibility towards wifeno beating rapingalsoand man even rabbiis allowed peak woman mikvehand balanit place hand woman headwhile shes taking ritual bath idea immerse whole body one time director clearly trying bash ultra orthodoxs could least nice educated mannerbr love story cute credibledialogs long boringthe ending sucked totallyfor drama least hoping nice ending sitting felt deserved obviously someone trying make nice consciousness soothing movie le observant jew non jew perhapslook fundamentalist evil meanand succeed long thing short hoping nice europien kane level movie got instead tradition bashing unrealisticmistakenly guiding junk mean todaywe live time free never everyone right choose malka chose rock singerrivka made choicemeir made many people non observing background choosing orthodox judaism daysbecausein mad world religion might nice gateway\n",
      "Topic 8: dont know chasidik movement film abouti saw film year agoi orthodox woman living orthodox chasidic community tell offended movieits far away reality scary director could least hire chasidik rabbi brief consultation making realistic movie ultra orthodoxs example meir davening morning prayer jewish wedding mikveh ritual bath customsbr movie loaded technical inaccuraciesbut bothered spiritual side orthodoxs portrayed next taliban woman powerless men ultimate ruler pleaseno one force jewish girl chuppa orthodoxsalso live law halacha clearly state man responsibility towards wifeno beating rapingalsoand man even rabbiis allowed peak woman mikvehand balanit place hand woman headwhile shes taking ritual bath idea immerse whole body one time director clearly trying bash ultra orthodoxs could least nice educated mannerbr love story cute credibledialogs long boringthe ending sucked totallyfor drama least hoping nice ending sitting felt deserved obviously someone trying make nice consciousness soothing movie le observant jew non jew perhapslook fundamentalist evil meanand succeed long thing short hoping nice europien kane level movie got instead tradition bashing unrealisticmistakenly guiding junk mean todaywe live time free never everyone right choose malka chose rock singerrivka made choicemeir made many people non observing background choosing orthodox judaism daysbecausein mad world religion might nice gateway\n",
      "Topic 9: dont know chasidik movement film abouti saw film year agoi orthodox woman living orthodox chasidic community tell offended movieits far away reality scary director could least hire chasidik rabbi brief consultation making realistic movie ultra orthodoxs example meir davening morning prayer jewish wedding mikveh ritual bath customsbr movie loaded technical inaccuraciesbut bothered spiritual side orthodoxs portrayed next taliban woman powerless men ultimate ruler pleaseno one force jewish girl chuppa orthodoxsalso live law halacha clearly state man responsibility towards wifeno beating rapingalsoand man even rabbiis allowed peak woman mikvehand balanit place hand woman headwhile shes taking ritual bath idea immerse whole body one time director clearly trying bash ultra orthodoxs could least nice educated mannerbr love story cute credibledialogs long boringthe ending sucked totallyfor drama least hoping nice ending sitting felt deserved obviously someone trying make nice consciousness soothing movie le observant jew non jew perhapslook fundamentalist evil meanand succeed long thing short hoping nice europien kane level movie got instead tradition bashing unrealisticmistakenly guiding junk mean todaywe live time free never everyone right choose malka chose rock singerrivka made choicemeir made many people non observing background choosing orthodox judaism daysbecausein mad world religion might nice gateway\n",
      "Topic 10: dont know chasidik movement film abouti saw film year agoi orthodox woman living orthodox chasidic community tell offended movieits far away reality scary director could least hire chasidik rabbi brief consultation making realistic movie ultra orthodoxs example meir davening morning prayer jewish wedding mikveh ritual bath customsbr movie loaded technical inaccuraciesbut bothered spiritual side orthodoxs portrayed next taliban woman powerless men ultimate ruler pleaseno one force jewish girl chuppa orthodoxsalso live law halacha clearly state man responsibility towards wifeno beating rapingalsoand man even rabbiis allowed peak woman mikvehand balanit place hand woman headwhile shes taking ritual bath idea immerse whole body one time director clearly trying bash ultra orthodoxs could least nice educated mannerbr love story cute credibledialogs long boringthe ending sucked totallyfor drama least hoping nice ending sitting felt deserved obviously someone trying make nice consciousness soothing movie le observant jew non jew perhapslook fundamentalist evil meanand succeed long thing short hoping nice europien kane level movie got instead tradition bashing unrealisticmistakenly guiding junk mean todaywe live time free never everyone right choose malka chose rock singerrivka made choicemeir made many people non observing background choosing orthodox judaism daysbecausein mad world religion might nice gateway\n",
      "Topic 11: dont know chasidik movement film abouti saw film year agoi orthodox woman living orthodox chasidic community tell offended movieits far away reality scary director could least hire chasidik rabbi brief consultation making realistic movie ultra orthodoxs example meir davening morning prayer jewish wedding mikveh ritual bath customsbr movie loaded technical inaccuraciesbut bothered spiritual side orthodoxs portrayed next taliban woman powerless men ultimate ruler pleaseno one force jewish girl chuppa orthodoxsalso live law halacha clearly state man responsibility towards wifeno beating rapingalsoand man even rabbiis allowed peak woman mikvehand balanit place hand woman headwhile shes taking ritual bath idea immerse whole body one time director clearly trying bash ultra orthodoxs could least nice educated mannerbr love story cute credibledialogs long boringthe ending sucked totallyfor drama least hoping nice ending sitting felt deserved obviously someone trying make nice consciousness soothing movie le observant jew non jew perhapslook fundamentalist evil meanand succeed long thing short hoping nice europien kane level movie got instead tradition bashing unrealisticmistakenly guiding junk mean todaywe live time free never everyone right choose malka chose rock singerrivka made choicemeir made many people non observing background choosing orthodox judaism daysbecausein mad world religion might nice gateway\n",
      "Topic 12: dont know chasidik movement film abouti saw film year agoi orthodox woman living orthodox chasidic community tell offended movieits far away reality scary director could least hire chasidik rabbi brief consultation making realistic movie ultra orthodoxs example meir davening morning prayer jewish wedding mikveh ritual bath customsbr movie loaded technical inaccuraciesbut bothered spiritual side orthodoxs portrayed next taliban woman powerless men ultimate ruler pleaseno one force jewish girl chuppa orthodoxsalso live law halacha clearly state man responsibility towards wifeno beating rapingalsoand man even rabbiis allowed peak woman mikvehand balanit place hand woman headwhile shes taking ritual bath idea immerse whole body one time director clearly trying bash ultra orthodoxs could least nice educated mannerbr love story cute credibledialogs long boringthe ending sucked totallyfor drama least hoping nice ending sitting felt deserved obviously someone trying make nice consciousness soothing movie le observant jew non jew perhapslook fundamentalist evil meanand succeed long thing short hoping nice europien kane level movie got instead tradition bashing unrealisticmistakenly guiding junk mean todaywe live time free never everyone right choose malka chose rock singerrivka made choicemeir made many people non observing background choosing orthodox judaism daysbecausein mad world religion might nice gateway\n",
      "Topic 13: dont know chasidik movement film abouti saw film year agoi orthodox woman living orthodox chasidic community tell offended movieits far away reality scary director could least hire chasidik rabbi brief consultation making realistic movie ultra orthodoxs example meir davening morning prayer jewish wedding mikveh ritual bath customsbr movie loaded technical inaccuraciesbut bothered spiritual side orthodoxs portrayed next taliban woman powerless men ultimate ruler pleaseno one force jewish girl chuppa orthodoxsalso live law halacha clearly state man responsibility towards wifeno beating rapingalsoand man even rabbiis allowed peak woman mikvehand balanit place hand woman headwhile shes taking ritual bath idea immerse whole body one time director clearly trying bash ultra orthodoxs could least nice educated mannerbr love story cute credibledialogs long boringthe ending sucked totallyfor drama least hoping nice ending sitting felt deserved obviously someone trying make nice consciousness soothing movie le observant jew non jew perhapslook fundamentalist evil meanand succeed long thing short hoping nice europien kane level movie got instead tradition bashing unrealisticmistakenly guiding junk mean todaywe live time free never everyone right choose malka chose rock singerrivka made choicemeir made many people non observing background choosing orthodox judaism daysbecausein mad world religion might nice gateway\n",
      "Topic 14: dont know chasidik movement film abouti saw film year agoi orthodox woman living orthodox chasidic community tell offended movieits far away reality scary director could least hire chasidik rabbi brief consultation making realistic movie ultra orthodoxs example meir davening morning prayer jewish wedding mikveh ritual bath customsbr movie loaded technical inaccuraciesbut bothered spiritual side orthodoxs portrayed next taliban woman powerless men ultimate ruler pleaseno one force jewish girl chuppa orthodoxsalso live law halacha clearly state man responsibility towards wifeno beating rapingalsoand man even rabbiis allowed peak woman mikvehand balanit place hand woman headwhile shes taking ritual bath idea immerse whole body one time director clearly trying bash ultra orthodoxs could least nice educated mannerbr love story cute credibledialogs long boringthe ending sucked totallyfor drama least hoping nice ending sitting felt deserved obviously someone trying make nice consciousness soothing movie le observant jew non jew perhapslook fundamentalist evil meanand succeed long thing short hoping nice europien kane level movie got instead tradition bashing unrealisticmistakenly guiding junk mean todaywe live time free never everyone right choose malka chose rock singerrivka made choicemeir made many people non observing background choosing orthodox judaism daysbecausein mad world religion might nice gateway\n",
      "Topic 15: dont know chasidik movement film abouti saw film year agoi orthodox woman living orthodox chasidic community tell offended movieits far away reality scary director could least hire chasidik rabbi brief consultation making realistic movie ultra orthodoxs example meir davening morning prayer jewish wedding mikveh ritual bath customsbr movie loaded technical inaccuraciesbut bothered spiritual side orthodoxs portrayed next taliban woman powerless men ultimate ruler pleaseno one force jewish girl chuppa orthodoxsalso live law halacha clearly state man responsibility towards wifeno beating rapingalsoand man even rabbiis allowed peak woman mikvehand balanit place hand woman headwhile shes taking ritual bath idea immerse whole body one time director clearly trying bash ultra orthodoxs could least nice educated mannerbr love story cute credibledialogs long boringthe ending sucked totallyfor drama least hoping nice ending sitting felt deserved obviously someone trying make nice consciousness soothing movie le observant jew non jew perhapslook fundamentalist evil meanand succeed long thing short hoping nice europien kane level movie got instead tradition bashing unrealisticmistakenly guiding junk mean todaywe live time free never everyone right choose malka chose rock singerrivka made choicemeir made many people non observing background choosing orthodox judaism daysbecausein mad world religion might nice gateway\n",
      "Topic 16: dont know chasidik movement film abouti saw film year agoi orthodox woman living orthodox chasidic community tell offended movieits far away reality scary director could least hire chasidik rabbi brief consultation making realistic movie ultra orthodoxs example meir davening morning prayer jewish wedding mikveh ritual bath customsbr movie loaded technical inaccuraciesbut bothered spiritual side orthodoxs portrayed next taliban woman powerless men ultimate ruler pleaseno one force jewish girl chuppa orthodoxsalso live law halacha clearly state man responsibility towards wifeno beating rapingalsoand man even rabbiis allowed peak woman mikvehand balanit place hand woman headwhile shes taking ritual bath idea immerse whole body one time director clearly trying bash ultra orthodoxs could least nice educated mannerbr love story cute credibledialogs long boringthe ending sucked totallyfor drama least hoping nice ending sitting felt deserved obviously someone trying make nice consciousness soothing movie le observant jew non jew perhapslook fundamentalist evil meanand succeed long thing short hoping nice europien kane level movie got instead tradition bashing unrealisticmistakenly guiding junk mean todaywe live time free never everyone right choose malka chose rock singerrivka made choicemeir made many people non observing background choosing orthodox judaism daysbecausein mad world religion might nice gateway\n",
      "Topic 17: dont know chasidik movement film abouti saw film year agoi orthodox woman living orthodox chasidic community tell offended movieits far away reality scary director could least hire chasidik rabbi brief consultation making realistic movie ultra orthodoxs example meir davening morning prayer jewish wedding mikveh ritual bath customsbr movie loaded technical inaccuraciesbut bothered spiritual side orthodoxs portrayed next taliban woman powerless men ultimate ruler pleaseno one force jewish girl chuppa orthodoxsalso live law halacha clearly state man responsibility towards wifeno beating rapingalsoand man even rabbiis allowed peak woman mikvehand balanit place hand woman headwhile shes taking ritual bath idea immerse whole body one time director clearly trying bash ultra orthodoxs could least nice educated mannerbr love story cute credibledialogs long boringthe ending sucked totallyfor drama least hoping nice ending sitting felt deserved obviously someone trying make nice consciousness soothing movie le observant jew non jew perhapslook fundamentalist evil meanand succeed long thing short hoping nice europien kane level movie got instead tradition bashing unrealisticmistakenly guiding junk mean todaywe live time free never everyone right choose malka chose rock singerrivka made choicemeir made many people non observing background choosing orthodox judaism daysbecausein mad world religion might nice gateway\n",
      "Topic 18: dont know chasidik movement film abouti saw film year agoi orthodox woman living orthodox chasidic community tell offended movieits far away reality scary director could least hire chasidik rabbi brief consultation making realistic movie ultra orthodoxs example meir davening morning prayer jewish wedding mikveh ritual bath customsbr movie loaded technical inaccuraciesbut bothered spiritual side orthodoxs portrayed next taliban woman powerless men ultimate ruler pleaseno one force jewish girl chuppa orthodoxsalso live law halacha clearly state man responsibility towards wifeno beating rapingalsoand man even rabbiis allowed peak woman mikvehand balanit place hand woman headwhile shes taking ritual bath idea immerse whole body one time director clearly trying bash ultra orthodoxs could least nice educated mannerbr love story cute credibledialogs long boringthe ending sucked totallyfor drama least hoping nice ending sitting felt deserved obviously someone trying make nice consciousness soothing movie le observant jew non jew perhapslook fundamentalist evil meanand succeed long thing short hoping nice europien kane level movie got instead tradition bashing unrealisticmistakenly guiding junk mean todaywe live time free never everyone right choose malka chose rock singerrivka made choicemeir made many people non observing background choosing orthodox judaism daysbecausein mad world religion might nice gateway\n",
      "Topic 19: dont know chasidik movement film abouti saw film year agoi orthodox woman living orthodox chasidic community tell offended movieits far away reality scary director could least hire chasidik rabbi brief consultation making realistic movie ultra orthodoxs example meir davening morning prayer jewish wedding mikveh ritual bath customsbr movie loaded technical inaccuraciesbut bothered spiritual side orthodoxs portrayed next taliban woman powerless men ultimate ruler pleaseno one force jewish girl chuppa orthodoxsalso live law halacha clearly state man responsibility towards wifeno beating rapingalsoand man even rabbiis allowed peak woman mikvehand balanit place hand woman headwhile shes taking ritual bath idea immerse whole body one time director clearly trying bash ultra orthodoxs could least nice educated mannerbr love story cute credibledialogs long boringthe ending sucked totallyfor drama least hoping nice ending sitting felt deserved obviously someone trying make nice consciousness soothing movie le observant jew non jew perhapslook fundamentalist evil meanand succeed long thing short hoping nice europien kane level movie got instead tradition bashing unrealisticmistakenly guiding junk mean todaywe live time free never everyone right choose malka chose rock singerrivka made choicemeir made many people non observing background choosing orthodox judaism daysbecausein mad world religion might nice gateway\n",
      "Topic 20: dont know chasidik movement film abouti saw film year agoi orthodox woman living orthodox chasidic community tell offended movieits far away reality scary director could least hire chasidik rabbi brief consultation making realistic movie ultra orthodoxs example meir davening morning prayer jewish wedding mikveh ritual bath customsbr movie loaded technical inaccuraciesbut bothered spiritual side orthodoxs portrayed next taliban woman powerless men ultimate ruler pleaseno one force jewish girl chuppa orthodoxsalso live law halacha clearly state man responsibility towards wifeno beating rapingalsoand man even rabbiis allowed peak woman mikvehand balanit place hand woman headwhile shes taking ritual bath idea immerse whole body one time director clearly trying bash ultra orthodoxs could least nice educated mannerbr love story cute credibledialogs long boringthe ending sucked totallyfor drama least hoping nice ending sitting felt deserved obviously someone trying make nice consciousness soothing movie le observant jew non jew perhapslook fundamentalist evil meanand succeed long thing short hoping nice europien kane level movie got instead tradition bashing unrealisticmistakenly guiding junk mean todaywe live time free never everyone right choose malka chose rock singerrivka made choicemeir made many people non observing background choosing orthodox judaism daysbecausein mad world religion might nice gateway\n"
     ]
    }
   ],
   "source": [
    "from sklearn.feature_extraction.text import TfidfVectorizer\n",
    "from sklearn.metrics.pairwise import cosine_similarity\n",
    "# Label topik menggunakan unigram teratas\n",
    "topic_labels = []\n",
    "for i in range(20):\n",
    "    sentiment_terms = sentiment_unigrams[i]\n",
    "    aspect_terms = aspect_unigrams[i]\n",
    "    combined_terms = sentiment_terms + aspect_terms\n",
    "    \n",
    "    # Ubah daftar unigram menjadi string\n",
    "    combined_terms_str = \" \".join(combined_terms)\n",
    "    \n",
    "    # Hitung vektor TF-IDF untuk string gabungan\n",
    "    tfidf_vectorizer = TfidfVectorizer()\n",
    "    tfidf_matrix = tfidf_vectorizer.fit_transform(tweets)\n",
    "    \n",
    "    # Hitung kemiripan kosinus antara vektor representasi tweet dan vektor representasi string gabungan\n",
    "    similarities = cosine_similarity(tfidf_matrix[0:1], tfidf_matrix[1:])\n",
    "    \n",
    "    # Pilih tweet yang memiliki kemiripan kosinus tertinggi\n",
    "    most_similar_tweet_index = np.argmax(similarities)\n",
    "    detected_label = tweets[most_similar_tweet_index]\n",
    "    \n",
    "    topic_labels.append(detected_label)\n",
    "\n",
    "# Tampilkan label topik\n",
    "for i, label in enumerate(topic_labels):\n",
    "    print(f\"Topic {i + 1}: {label}\")"
   ]
  },
  {
   "cell_type": "code",
   "execution_count": 98,
   "metadata": {},
   "outputs": [],
   "source": [
    "# Menentukan label untuk contoh tweet\n",
    "sample_results = []\n",
    "for tweet in tweets:\n",
    "    tokens = preprocess(tweet)\n",
    "    bow = dictionary.doc2bow(tokens)\n",
    "    topic_distribution = lda_model.get_document_topics(bow)\n",
    "    dominant_topic = max(topic_distribution, key=lambda x: x[1])[0]\n",
    "    \n",
    "    sentiment_terms, aspect_terms = aspect_sentiment(tweet)\n",
    "    label_terms = \" \".join(sentiment_terms + aspect_terms)\n",
    "    label_vector = tfidf_vectorizer.transform([label_terms]).toarray().flatten()\n",
    "    \n",
    "    similarity = []\n",
    "    for i, (_, terms) in enumerate(topics):\n",
    "        topic_terms = \" \".join([term.split('*')[1].strip('\"') for term in terms.split('+')])\n",
    "        topic_vector = tfidf_vectorizer.transform([topic_terms]).toarray().flatten()\n",
    "        similarity.append((i, 1 - cosine(label_vector, topic_vector)))\n",
    "    best_match = max(similarity, key=lambda x: x[1])\n",
    "    detected_label = best_match[0]\n",
    "    \n",
    "    sample_results.append((tweet, dominant_topic, detected_label))"
   ]
  },
  {
   "cell_type": "code",
   "execution_count": 124,
   "metadata": {},
   "outputs": [
    {
     "data": {
      "text/html": [
       "<div>\n",
       "<style scoped>\n",
       "    .dataframe tbody tr th:only-of-type {\n",
       "        vertical-align: middle;\n",
       "    }\n",
       "\n",
       "    .dataframe tbody tr th {\n",
       "        vertical-align: top;\n",
       "    }\n",
       "\n",
       "    .dataframe thead th {\n",
       "        text-align: right;\n",
       "    }\n",
       "</style>\n",
       "<table border=\"1\" class=\"dataframe\">\n",
       "  <thead>\n",
       "    <tr style=\"text-align: right;\">\n",
       "      <th></th>\n",
       "      <th>Sample Tweet</th>\n",
       "      <th>Topic No.</th>\n",
       "      <th>Detected Topic Label(SATLabel)</th>\n",
       "    </tr>\n",
       "  </thead>\n",
       "  <tbody>\n",
       "    <tr>\n",
       "      <th>0</th>\n",
       "      <td>grew 1965 watching loving thunderbird mate sch...</td>\n",
       "      <td>18</td>\n",
       "      <td>16</td>\n",
       "    </tr>\n",
       "    <tr>\n",
       "      <th>1</th>\n",
       "      <td>put movie dvd player sat coke chip expectation...</td>\n",
       "      <td>14</td>\n",
       "      <td>16</td>\n",
       "    </tr>\n",
       "    <tr>\n",
       "      <th>2</th>\n",
       "      <td>people know particular time past like feel nee...</td>\n",
       "      <td>10</td>\n",
       "      <td>2</td>\n",
       "    </tr>\n",
       "    <tr>\n",
       "      <th>3</th>\n",
       "      <td>even though great interest biblical movie bore...</td>\n",
       "      <td>14</td>\n",
       "      <td>8</td>\n",
       "    </tr>\n",
       "    <tr>\n",
       "      <th>4</th>\n",
       "      <td>terrible movie everyone said made laugh cameo ...</td>\n",
       "      <td>6</td>\n",
       "      <td>8</td>\n",
       "    </tr>\n",
       "    <tr>\n",
       "      <th>...</th>\n",
       "      <td>...</td>\n",
       "      <td>...</td>\n",
       "      <td>...</td>\n",
       "    </tr>\n",
       "    <tr>\n",
       "      <th>19995</th>\n",
       "      <td>ive read comment posted agree many intelligent...</td>\n",
       "      <td>17</td>\n",
       "      <td>10</td>\n",
       "    </tr>\n",
       "    <tr>\n",
       "      <th>19996</th>\n",
       "      <td>without doubt funniest curly stooge short ive ...</td>\n",
       "      <td>14</td>\n",
       "      <td>9</td>\n",
       "    </tr>\n",
       "    <tr>\n",
       "      <th>19997</th>\n",
       "      <td>first saw thief child make almost old jinni gu...</td>\n",
       "      <td>18</td>\n",
       "      <td>7</td>\n",
       "    </tr>\n",
       "    <tr>\n",
       "      <th>19998</th>\n",
       "      <td>fine poetic story beautiful scenery magnificen...</td>\n",
       "      <td>17</td>\n",
       "      <td>6</td>\n",
       "    </tr>\n",
       "    <tr>\n",
       "      <th>19999</th>\n",
       "      <td>sometimes watch movie really impressed still e...</td>\n",
       "      <td>18</td>\n",
       "      <td>18</td>\n",
       "    </tr>\n",
       "  </tbody>\n",
       "</table>\n",
       "<p>20000 rows × 3 columns</p>\n",
       "</div>"
      ],
      "text/plain": [
       "                                            Sample Tweet  Topic No.  \\\n",
       "0      grew 1965 watching loving thunderbird mate sch...         18   \n",
       "1      put movie dvd player sat coke chip expectation...         14   \n",
       "2      people know particular time past like feel nee...         10   \n",
       "3      even though great interest biblical movie bore...         14   \n",
       "4      terrible movie everyone said made laugh cameo ...          6   \n",
       "...                                                  ...        ...   \n",
       "19995  ive read comment posted agree many intelligent...         17   \n",
       "19996  without doubt funniest curly stooge short ive ...         14   \n",
       "19997  first saw thief child make almost old jinni gu...         18   \n",
       "19998  fine poetic story beautiful scenery magnificen...         17   \n",
       "19999  sometimes watch movie really impressed still e...         18   \n",
       "\n",
       "       Detected Topic Label(SATLabel)  \n",
       "0                                  16  \n",
       "1                                  16  \n",
       "2                                   2  \n",
       "3                                   8  \n",
       "4                                   8  \n",
       "...                               ...  \n",
       "19995                              10  \n",
       "19996                               9  \n",
       "19997                               7  \n",
       "19998                               6  \n",
       "19999                              18  \n",
       "\n",
       "[20000 rows x 3 columns]"
      ]
     },
     "execution_count": 124,
     "metadata": {},
     "output_type": "execute_result"
    }
   ],
   "source": [
    "# Buat tabel dengan pandas\n",
    "df_final = pd.DataFrame(sample_results, columns=[\"Sample Tweet\", \"Topic No.\", \"Detected Topic Label(SATLabel)\"])\n",
    "df_final"
   ]
  }
 ],
 "metadata": {
  "kernelspec": {
   "display_name": ".venv",
   "language": "python",
   "name": "python3"
  },
  "language_info": {
   "codemirror_mode": {
    "name": "ipython",
    "version": 3
   },
   "file_extension": ".py",
   "mimetype": "text/x-python",
   "name": "python",
   "nbconvert_exporter": "python",
   "pygments_lexer": "ipython3",
   "version": "3.11.9"
  }
 },
 "nbformat": 4,
 "nbformat_minor": 2
}
